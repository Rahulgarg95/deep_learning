{
  "nbformat": 4,
  "nbformat_minor": 0,
  "metadata": {
    "colab": {
      "name": "StocksClustering_Assignment",
      "provenance": [],
      "collapsed_sections": [],
      "authorship_tag": "ABX9TyPqaJ3inBOxEogffWPQNzvW",
      "include_colab_link": true
    },
    "kernelspec": {
      "name": "python3",
      "display_name": "Python 3"
    }
  },
  "cells": [
    {
      "cell_type": "markdown",
      "metadata": {
        "id": "view-in-github",
        "colab_type": "text"
      },
      "source": [
        "<a href=\"https://colab.research.google.com/github/Rahulgarg95/deep_learning/blob/main/StocksClustering_Assignment.ipynb\" target=\"_parent\"><img src=\"https://colab.research.google.com/assets/colab-badge.svg\" alt=\"Open In Colab\"/></a>"
      ]
    },
    {
      "cell_type": "code",
      "metadata": {
        "id": "DCCLBOL6NKhT"
      },
      "source": [
        "import pandas as pd\r\n",
        "import numpy as np\r\n",
        "import matplotlib.pyplot as plt\r\n",
        "from datetime import datetime\r\n",
        "import seaborn as sns\r\n",
        "%matplotlib inline"
      ],
      "execution_count": null,
      "outputs": []
    },
    {
      "cell_type": "code",
      "metadata": {
        "colab": {
          "base_uri": "https://localhost:8080/"
        },
        "id": "_A2iUeSRqAoa",
        "outputId": "75236930-767b-47a3-9129-704ed47f26ec"
      },
      "source": [
        "!pip install opendatasets"
      ],
      "execution_count": null,
      "outputs": [
        {
          "output_type": "stream",
          "text": [
            "Collecting opendatasets\n",
            "  Downloading https://files.pythonhosted.org/packages/18/99/aaa3ebec81dc347302e730e0daff61735ed2f3e736129553fb3f9bf67ed3/opendatasets-0.1.10-py3-none-any.whl\n",
            "Requirement already satisfied: click in /usr/local/lib/python3.6/dist-packages (from opendatasets) (7.1.2)\n",
            "Requirement already satisfied: tqdm in /usr/local/lib/python3.6/dist-packages (from opendatasets) (4.41.1)\n",
            "Requirement already satisfied: kaggle in /usr/local/lib/python3.6/dist-packages (from opendatasets) (1.5.10)\n",
            "Requirement already satisfied: requests in /usr/local/lib/python3.6/dist-packages (from kaggle->opendatasets) (2.23.0)\n",
            "Requirement already satisfied: urllib3 in /usr/local/lib/python3.6/dist-packages (from kaggle->opendatasets) (1.24.3)\n",
            "Requirement already satisfied: python-slugify in /usr/local/lib/python3.6/dist-packages (from kaggle->opendatasets) (4.0.1)\n",
            "Requirement already satisfied: certifi in /usr/local/lib/python3.6/dist-packages (from kaggle->opendatasets) (2020.12.5)\n",
            "Requirement already satisfied: six>=1.10 in /usr/local/lib/python3.6/dist-packages (from kaggle->opendatasets) (1.15.0)\n",
            "Requirement already satisfied: python-dateutil in /usr/local/lib/python3.6/dist-packages (from kaggle->opendatasets) (2.8.1)\n",
            "Requirement already satisfied: chardet<4,>=3.0.2 in /usr/local/lib/python3.6/dist-packages (from requests->kaggle->opendatasets) (3.0.4)\n",
            "Requirement already satisfied: idna<3,>=2.5 in /usr/local/lib/python3.6/dist-packages (from requests->kaggle->opendatasets) (2.10)\n",
            "Requirement already satisfied: text-unidecode>=1.3 in /usr/local/lib/python3.6/dist-packages (from python-slugify->kaggle->opendatasets) (1.3)\n",
            "Installing collected packages: opendatasets\n",
            "Successfully installed opendatasets-0.1.10\n"
          ],
          "name": "stdout"
        }
      ]
    },
    {
      "cell_type": "code",
      "metadata": {
        "colab": {
          "base_uri": "https://localhost:8080/"
        },
        "id": "ZCBRUv0lqMk6",
        "outputId": "817666e8-6317-464d-b011-a592378ba661"
      },
      "source": [
        "import opendatasets as od\r\n",
        "od.download('https://www.kaggle.com/shivamsarawagi/stock-data-sets-for-prediction')"
      ],
      "execution_count": null,
      "outputs": [
        {
          "output_type": "stream",
          "text": [
            "Please provide your Kaggle credentials to download this dataset. Learn more: http://bit.ly/kaggle-creds\n",
            "Your Kaggle username: \n",
            "Your Kaggle username: rahulgarg95\n",
            "Your Kaggle Key: ··········\n"
          ],
          "name": "stdout"
        },
        {
          "output_type": "stream",
          "text": [
            "\r  0%|          | 0.00/42.5M [00:00<?, ?B/s]"
          ],
          "name": "stderr"
        },
        {
          "output_type": "stream",
          "text": [
            "Downloading stock-data-sets-for-prediction.zip to ./stock-data-sets-for-prediction\n"
          ],
          "name": "stdout"
        },
        {
          "output_type": "stream",
          "text": [
            "100%|██████████| 42.5M/42.5M [00:00<00:00, 95.0MB/s]\n"
          ],
          "name": "stderr"
        },
        {
          "output_type": "stream",
          "text": [
            "\n"
          ],
          "name": "stdout"
        }
      ]
    },
    {
      "cell_type": "code",
      "metadata": {
        "id": "RrnlBZWjqNeO"
      },
      "source": [
        "df=pd.read_csv('stock-data-sets-for-prediction/data_stocks.csv')"
      ],
      "execution_count": null,
      "outputs": []
    },
    {
      "cell_type": "code",
      "metadata": {
        "colab": {
          "base_uri": "https://localhost:8080/",
          "height": 251
        },
        "id": "VFgIDY7Tsfh8",
        "outputId": "5df0140c-3378-4938-94e3-fda681427e04"
      },
      "source": [
        "df.head()"
      ],
      "execution_count": null,
      "outputs": [
        {
          "output_type": "execute_result",
          "data": {
            "text/html": [
              "<div>\n",
              "<style scoped>\n",
              "    .dataframe tbody tr th:only-of-type {\n",
              "        vertical-align: middle;\n",
              "    }\n",
              "\n",
              "    .dataframe tbody tr th {\n",
              "        vertical-align: top;\n",
              "    }\n",
              "\n",
              "    .dataframe thead th {\n",
              "        text-align: right;\n",
              "    }\n",
              "</style>\n",
              "<table border=\"1\" class=\"dataframe\">\n",
              "  <thead>\n",
              "    <tr style=\"text-align: right;\">\n",
              "      <th></th>\n",
              "      <th>DATE</th>\n",
              "      <th>SP500</th>\n",
              "      <th>NASDAQ.AAL</th>\n",
              "      <th>NASDAQ.AAPL</th>\n",
              "      <th>NASDAQ.ADBE</th>\n",
              "      <th>NASDAQ.ADI</th>\n",
              "      <th>NASDAQ.ADP</th>\n",
              "      <th>NASDAQ.ADSK</th>\n",
              "      <th>NASDAQ.AKAM</th>\n",
              "      <th>NASDAQ.ALXN</th>\n",
              "      <th>NASDAQ.AMAT</th>\n",
              "      <th>NASDAQ.AMD</th>\n",
              "      <th>NASDAQ.AMGN</th>\n",
              "      <th>NASDAQ.AMZN</th>\n",
              "      <th>NASDAQ.ATVI</th>\n",
              "      <th>NASDAQ.AVGO</th>\n",
              "      <th>NASDAQ.BBBY</th>\n",
              "      <th>NASDAQ.BIIB</th>\n",
              "      <th>NASDAQ.CA</th>\n",
              "      <th>NASDAQ.CBOE</th>\n",
              "      <th>NASDAQ.CELG</th>\n",
              "      <th>NASDAQ.CERN</th>\n",
              "      <th>NASDAQ.CHRW</th>\n",
              "      <th>NASDAQ.CHTR</th>\n",
              "      <th>NASDAQ.CINF</th>\n",
              "      <th>NASDAQ.CMCSA</th>\n",
              "      <th>NASDAQ.CME</th>\n",
              "      <th>NASDAQ.COST</th>\n",
              "      <th>NASDAQ.CSCO</th>\n",
              "      <th>NASDAQ.CSX</th>\n",
              "      <th>NASDAQ.CTAS</th>\n",
              "      <th>NASDAQ.CTSH</th>\n",
              "      <th>NASDAQ.CTXS</th>\n",
              "      <th>NASDAQ.DISCA</th>\n",
              "      <th>NASDAQ.DISCK</th>\n",
              "      <th>NASDAQ.DISH</th>\n",
              "      <th>NASDAQ.DLTR</th>\n",
              "      <th>NASDAQ.EA</th>\n",
              "      <th>NASDAQ.EBAY</th>\n",
              "      <th>NASDAQ.EQIX</th>\n",
              "      <th>...</th>\n",
              "      <th>NYSE.UA</th>\n",
              "      <th>NYSE.UAA</th>\n",
              "      <th>NYSE.UAL</th>\n",
              "      <th>NYSE.UDR</th>\n",
              "      <th>NYSE.UHS</th>\n",
              "      <th>NYSE.UNH</th>\n",
              "      <th>NYSE.UNM</th>\n",
              "      <th>NYSE.UNP</th>\n",
              "      <th>NYSE.UPS</th>\n",
              "      <th>NYSE.URI</th>\n",
              "      <th>NYSE.USB</th>\n",
              "      <th>NYSE.UTX</th>\n",
              "      <th>NYSE.V</th>\n",
              "      <th>NYSE.VAR</th>\n",
              "      <th>NYSE.VFC</th>\n",
              "      <th>NYSE.VLO</th>\n",
              "      <th>NYSE.VMC</th>\n",
              "      <th>NYSE.VNO</th>\n",
              "      <th>NYSE.VTR</th>\n",
              "      <th>NYSE.VZ</th>\n",
              "      <th>NYSE.WAT</th>\n",
              "      <th>NYSE.WEC</th>\n",
              "      <th>NYSE.WFC</th>\n",
              "      <th>NYSE.WHR</th>\n",
              "      <th>NYSE.WM</th>\n",
              "      <th>NYSE.WMB</th>\n",
              "      <th>NYSE.WMT</th>\n",
              "      <th>NYSE.WRK</th>\n",
              "      <th>NYSE.WU</th>\n",
              "      <th>NYSE.WY</th>\n",
              "      <th>NYSE.WYN</th>\n",
              "      <th>NYSE.XEC</th>\n",
              "      <th>NYSE.XEL</th>\n",
              "      <th>NYSE.XL</th>\n",
              "      <th>NYSE.XOM</th>\n",
              "      <th>NYSE.XRX</th>\n",
              "      <th>NYSE.XYL</th>\n",
              "      <th>NYSE.YUM</th>\n",
              "      <th>NYSE.ZBH</th>\n",
              "      <th>NYSE.ZTS</th>\n",
              "    </tr>\n",
              "  </thead>\n",
              "  <tbody>\n",
              "    <tr>\n",
              "      <th>0</th>\n",
              "      <td>1491226200</td>\n",
              "      <td>2363.6101</td>\n",
              "      <td>42.3300</td>\n",
              "      <td>143.6800</td>\n",
              "      <td>129.6300</td>\n",
              "      <td>82.040</td>\n",
              "      <td>102.2300</td>\n",
              "      <td>85.2200</td>\n",
              "      <td>59.760</td>\n",
              "      <td>121.52</td>\n",
              "      <td>38.99</td>\n",
              "      <td>14.61</td>\n",
              "      <td>164.630</td>\n",
              "      <td>888.5500</td>\n",
              "      <td>49.850</td>\n",
              "      <td>219.11</td>\n",
              "      <td>39.43</td>\n",
              "      <td>274.080</td>\n",
              "      <td>31.780</td>\n",
              "      <td>81.03</td>\n",
              "      <td>124.89</td>\n",
              "      <td>58.820</td>\n",
              "      <td>77.725</td>\n",
              "      <td>330.73</td>\n",
              "      <td>72.430</td>\n",
              "      <td>37.470</td>\n",
              "      <td>119.385</td>\n",
              "      <td>167.740</td>\n",
              "      <td>33.7400</td>\n",
              "      <td>46.6450</td>\n",
              "      <td>126.8600</td>\n",
              "      <td>59.720</td>\n",
              "      <td>83.5400</td>\n",
              "      <td>29.020</td>\n",
              "      <td>28.370</td>\n",
              "      <td>63.4900</td>\n",
              "      <td>78.4600</td>\n",
              "      <td>89.90</td>\n",
              "      <td>33.3975</td>\n",
              "      <td>400.9400</td>\n",
              "      <td>...</td>\n",
              "      <td>18.6100</td>\n",
              "      <td>19.8901</td>\n",
              "      <td>70.69</td>\n",
              "      <td>36.26</td>\n",
              "      <td>124.66</td>\n",
              "      <td>164.62</td>\n",
              "      <td>47.0400</td>\n",
              "      <td>106.27</td>\n",
              "      <td>107.65</td>\n",
              "      <td>124.5901</td>\n",
              "      <td>51.6200</td>\n",
              "      <td>112.36</td>\n",
              "      <td>89.35</td>\n",
              "      <td>91.130</td>\n",
              "      <td>55.21</td>\n",
              "      <td>66.5900</td>\n",
              "      <td>120.1300</td>\n",
              "      <td>100.35</td>\n",
              "      <td>65.07</td>\n",
              "      <td>48.730</td>\n",
              "      <td>156.390</td>\n",
              "      <td>60.46</td>\n",
              "      <td>55.70</td>\n",
              "      <td>171.83</td>\n",
              "      <td>73.08</td>\n",
              "      <td>29.62</td>\n",
              "      <td>72.1000</td>\n",
              "      <td>52.160</td>\n",
              "      <td>20.34</td>\n",
              "      <td>34.00</td>\n",
              "      <td>84.370</td>\n",
              "      <td>119.035</td>\n",
              "      <td>44.40</td>\n",
              "      <td>39.88</td>\n",
              "      <td>82.03</td>\n",
              "      <td>7.36</td>\n",
              "      <td>50.22</td>\n",
              "      <td>63.86</td>\n",
              "      <td>122.000</td>\n",
              "      <td>53.350</td>\n",
              "    </tr>\n",
              "    <tr>\n",
              "      <th>1</th>\n",
              "      <td>1491226260</td>\n",
              "      <td>2364.1001</td>\n",
              "      <td>42.3600</td>\n",
              "      <td>143.7000</td>\n",
              "      <td>130.3200</td>\n",
              "      <td>82.080</td>\n",
              "      <td>102.1400</td>\n",
              "      <td>85.6500</td>\n",
              "      <td>59.840</td>\n",
              "      <td>121.48</td>\n",
              "      <td>39.01</td>\n",
              "      <td>14.71</td>\n",
              "      <td>164.680</td>\n",
              "      <td>887.1173</td>\n",
              "      <td>49.940</td>\n",
              "      <td>219.98</td>\n",
              "      <td>39.68</td>\n",
              "      <td>273.990</td>\n",
              "      <td>31.780</td>\n",
              "      <td>81.21</td>\n",
              "      <td>124.99</td>\n",
              "      <td>58.495</td>\n",
              "      <td>77.940</td>\n",
              "      <td>330.73</td>\n",
              "      <td>72.040</td>\n",
              "      <td>37.540</td>\n",
              "      <td>118.810</td>\n",
              "      <td>167.776</td>\n",
              "      <td>33.8800</td>\n",
              "      <td>46.6100</td>\n",
              "      <td>126.8600</td>\n",
              "      <td>59.830</td>\n",
              "      <td>83.9400</td>\n",
              "      <td>29.140</td>\n",
              "      <td>28.400</td>\n",
              "      <td>63.4600</td>\n",
              "      <td>78.6200</td>\n",
              "      <td>89.73</td>\n",
              "      <td>33.3950</td>\n",
              "      <td>400.4000</td>\n",
              "      <td>...</td>\n",
              "      <td>18.5100</td>\n",
              "      <td>19.8901</td>\n",
              "      <td>70.77</td>\n",
              "      <td>36.26</td>\n",
              "      <td>124.82</td>\n",
              "      <td>164.39</td>\n",
              "      <td>47.0400</td>\n",
              "      <td>106.27</td>\n",
              "      <td>107.65</td>\n",
              "      <td>124.5901</td>\n",
              "      <td>51.5800</td>\n",
              "      <td>112.36</td>\n",
              "      <td>89.35</td>\n",
              "      <td>91.210</td>\n",
              "      <td>55.12</td>\n",
              "      <td>66.3550</td>\n",
              "      <td>120.1300</td>\n",
              "      <td>100.03</td>\n",
              "      <td>65.04</td>\n",
              "      <td>48.752</td>\n",
              "      <td>157.190</td>\n",
              "      <td>59.93</td>\n",
              "      <td>55.81</td>\n",
              "      <td>171.54</td>\n",
              "      <td>72.95</td>\n",
              "      <td>29.64</td>\n",
              "      <td>72.1800</td>\n",
              "      <td>52.245</td>\n",
              "      <td>20.32</td>\n",
              "      <td>34.07</td>\n",
              "      <td>84.370</td>\n",
              "      <td>119.035</td>\n",
              "      <td>44.11</td>\n",
              "      <td>39.88</td>\n",
              "      <td>82.03</td>\n",
              "      <td>7.38</td>\n",
              "      <td>50.22</td>\n",
              "      <td>63.74</td>\n",
              "      <td>121.770</td>\n",
              "      <td>53.350</td>\n",
              "    </tr>\n",
              "    <tr>\n",
              "      <th>2</th>\n",
              "      <td>1491226320</td>\n",
              "      <td>2362.6799</td>\n",
              "      <td>42.3100</td>\n",
              "      <td>143.6901</td>\n",
              "      <td>130.2250</td>\n",
              "      <td>82.030</td>\n",
              "      <td>102.2125</td>\n",
              "      <td>85.5100</td>\n",
              "      <td>59.795</td>\n",
              "      <td>121.93</td>\n",
              "      <td>38.91</td>\n",
              "      <td>14.64</td>\n",
              "      <td>164.905</td>\n",
              "      <td>887.5110</td>\n",
              "      <td>49.860</td>\n",
              "      <td>219.39</td>\n",
              "      <td>39.60</td>\n",
              "      <td>274.275</td>\n",
              "      <td>31.765</td>\n",
              "      <td>81.21</td>\n",
              "      <td>125.00</td>\n",
              "      <td>58.470</td>\n",
              "      <td>77.815</td>\n",
              "      <td>330.73</td>\n",
              "      <td>72.055</td>\n",
              "      <td>37.610</td>\n",
              "      <td>118.830</td>\n",
              "      <td>168.000</td>\n",
              "      <td>33.9000</td>\n",
              "      <td>46.8850</td>\n",
              "      <td>126.9576</td>\n",
              "      <td>59.905</td>\n",
              "      <td>83.9400</td>\n",
              "      <td>29.150</td>\n",
              "      <td>28.375</td>\n",
              "      <td>63.5250</td>\n",
              "      <td>78.6311</td>\n",
              "      <td>89.24</td>\n",
              "      <td>33.4100</td>\n",
              "      <td>401.9850</td>\n",
              "      <td>...</td>\n",
              "      <td>18.4397</td>\n",
              "      <td>19.7900</td>\n",
              "      <td>70.62</td>\n",
              "      <td>36.19</td>\n",
              "      <td>124.82</td>\n",
              "      <td>165.30</td>\n",
              "      <td>46.9800</td>\n",
              "      <td>106.38</td>\n",
              "      <td>107.31</td>\n",
              "      <td>124.7100</td>\n",
              "      <td>51.4600</td>\n",
              "      <td>112.13</td>\n",
              "      <td>89.16</td>\n",
              "      <td>91.080</td>\n",
              "      <td>55.09</td>\n",
              "      <td>66.2417</td>\n",
              "      <td>120.3368</td>\n",
              "      <td>100.39</td>\n",
              "      <td>65.08</td>\n",
              "      <td>48.720</td>\n",
              "      <td>157.070</td>\n",
              "      <td>60.08</td>\n",
              "      <td>55.64</td>\n",
              "      <td>171.55</td>\n",
              "      <td>72.98</td>\n",
              "      <td>29.67</td>\n",
              "      <td>72.3192</td>\n",
              "      <td>52.200</td>\n",
              "      <td>20.26</td>\n",
              "      <td>34.11</td>\n",
              "      <td>84.585</td>\n",
              "      <td>119.260</td>\n",
              "      <td>44.09</td>\n",
              "      <td>39.98</td>\n",
              "      <td>82.02</td>\n",
              "      <td>7.36</td>\n",
              "      <td>50.12</td>\n",
              "      <td>63.75</td>\n",
              "      <td>121.700</td>\n",
              "      <td>53.365</td>\n",
              "    </tr>\n",
              "    <tr>\n",
              "      <th>3</th>\n",
              "      <td>1491226380</td>\n",
              "      <td>2364.3101</td>\n",
              "      <td>42.3700</td>\n",
              "      <td>143.6400</td>\n",
              "      <td>130.0729</td>\n",
              "      <td>82.000</td>\n",
              "      <td>102.1400</td>\n",
              "      <td>85.4872</td>\n",
              "      <td>59.620</td>\n",
              "      <td>121.44</td>\n",
              "      <td>38.84</td>\n",
              "      <td>14.63</td>\n",
              "      <td>164.760</td>\n",
              "      <td>886.2700</td>\n",
              "      <td>49.915</td>\n",
              "      <td>219.30</td>\n",
              "      <td>39.57</td>\n",
              "      <td>273.590</td>\n",
              "      <td>31.830</td>\n",
              "      <td>81.13</td>\n",
              "      <td>124.73</td>\n",
              "      <td>58.420</td>\n",
              "      <td>77.950</td>\n",
              "      <td>330.73</td>\n",
              "      <td>72.140</td>\n",
              "      <td>37.620</td>\n",
              "      <td>118.680</td>\n",
              "      <td>168.200</td>\n",
              "      <td>33.8499</td>\n",
              "      <td>46.7000</td>\n",
              "      <td>126.7000</td>\n",
              "      <td>59.700</td>\n",
              "      <td>83.7064</td>\n",
              "      <td>29.125</td>\n",
              "      <td>28.350</td>\n",
              "      <td>63.5300</td>\n",
              "      <td>78.7060</td>\n",
              "      <td>89.17</td>\n",
              "      <td>33.3350</td>\n",
              "      <td>401.5000</td>\n",
              "      <td>...</td>\n",
              "      <td>18.3700</td>\n",
              "      <td>19.7875</td>\n",
              "      <td>70.62</td>\n",
              "      <td>36.00</td>\n",
              "      <td>124.82</td>\n",
              "      <td>165.16</td>\n",
              "      <td>46.8097</td>\n",
              "      <td>106.33</td>\n",
              "      <td>107.49</td>\n",
              "      <td>124.4889</td>\n",
              "      <td>51.3800</td>\n",
              "      <td>112.01</td>\n",
              "      <td>89.06</td>\n",
              "      <td>91.015</td>\n",
              "      <td>55.21</td>\n",
              "      <td>66.1700</td>\n",
              "      <td>120.3100</td>\n",
              "      <td>100.39</td>\n",
              "      <td>64.95</td>\n",
              "      <td>48.695</td>\n",
              "      <td>156.945</td>\n",
              "      <td>60.39</td>\n",
              "      <td>55.64</td>\n",
              "      <td>171.26</td>\n",
              "      <td>73.09</td>\n",
              "      <td>29.79</td>\n",
              "      <td>72.4300</td>\n",
              "      <td>52.140</td>\n",
              "      <td>20.20</td>\n",
              "      <td>33.97</td>\n",
              "      <td>84.460</td>\n",
              "      <td>119.260</td>\n",
              "      <td>44.25</td>\n",
              "      <td>39.99</td>\n",
              "      <td>82.02</td>\n",
              "      <td>7.35</td>\n",
              "      <td>50.16</td>\n",
              "      <td>63.88</td>\n",
              "      <td>121.700</td>\n",
              "      <td>53.380</td>\n",
              "    </tr>\n",
              "    <tr>\n",
              "      <th>4</th>\n",
              "      <td>1491226440</td>\n",
              "      <td>2364.8501</td>\n",
              "      <td>42.5378</td>\n",
              "      <td>143.6600</td>\n",
              "      <td>129.8800</td>\n",
              "      <td>82.035</td>\n",
              "      <td>102.0600</td>\n",
              "      <td>85.7001</td>\n",
              "      <td>59.620</td>\n",
              "      <td>121.60</td>\n",
              "      <td>38.93</td>\n",
              "      <td>14.67</td>\n",
              "      <td>164.850</td>\n",
              "      <td>886.5800</td>\n",
              "      <td>49.915</td>\n",
              "      <td>219.18</td>\n",
              "      <td>39.55</td>\n",
              "      <td>273.540</td>\n",
              "      <td>31.830</td>\n",
              "      <td>81.12</td>\n",
              "      <td>124.83</td>\n",
              "      <td>58.600</td>\n",
              "      <td>78.050</td>\n",
              "      <td>330.73</td>\n",
              "      <td>72.215</td>\n",
              "      <td>37.625</td>\n",
              "      <td>118.935</td>\n",
              "      <td>168.040</td>\n",
              "      <td>33.8400</td>\n",
              "      <td>46.8562</td>\n",
              "      <td>126.8900</td>\n",
              "      <td>59.500</td>\n",
              "      <td>84.0000</td>\n",
              "      <td>29.140</td>\n",
              "      <td>28.410</td>\n",
              "      <td>63.6344</td>\n",
              "      <td>78.5850</td>\n",
              "      <td>88.95</td>\n",
              "      <td>33.4000</td>\n",
              "      <td>399.7704</td>\n",
              "      <td>...</td>\n",
              "      <td>18.3850</td>\n",
              "      <td>19.7324</td>\n",
              "      <td>70.78</td>\n",
              "      <td>36.01</td>\n",
              "      <td>124.82</td>\n",
              "      <td>165.24</td>\n",
              "      <td>47.0200</td>\n",
              "      <td>106.56</td>\n",
              "      <td>107.48</td>\n",
              "      <td>125.2449</td>\n",
              "      <td>51.4347</td>\n",
              "      <td>112.23</td>\n",
              "      <td>89.10</td>\n",
              "      <td>91.000</td>\n",
              "      <td>55.32</td>\n",
              "      <td>66.1800</td>\n",
              "      <td>120.3600</td>\n",
              "      <td>100.11</td>\n",
              "      <td>64.84</td>\n",
              "      <td>48.630</td>\n",
              "      <td>157.160</td>\n",
              "      <td>60.18</td>\n",
              "      <td>55.68</td>\n",
              "      <td>171.18</td>\n",
              "      <td>72.99</td>\n",
              "      <td>29.71</td>\n",
              "      <td>72.4800</td>\n",
              "      <td>52.140</td>\n",
              "      <td>20.22</td>\n",
              "      <td>34.00</td>\n",
              "      <td>84.470</td>\n",
              "      <td>119.610</td>\n",
              "      <td>44.11</td>\n",
              "      <td>39.96</td>\n",
              "      <td>82.03</td>\n",
              "      <td>7.36</td>\n",
              "      <td>50.20</td>\n",
              "      <td>63.91</td>\n",
              "      <td>121.695</td>\n",
              "      <td>53.240</td>\n",
              "    </tr>\n",
              "  </tbody>\n",
              "</table>\n",
              "<p>5 rows × 502 columns</p>\n",
              "</div>"
            ],
            "text/plain": [
              "         DATE      SP500  NASDAQ.AAL  ...  NYSE.YUM  NYSE.ZBH  NYSE.ZTS\n",
              "0  1491226200  2363.6101     42.3300  ...     63.86   122.000    53.350\n",
              "1  1491226260  2364.1001     42.3600  ...     63.74   121.770    53.350\n",
              "2  1491226320  2362.6799     42.3100  ...     63.75   121.700    53.365\n",
              "3  1491226380  2364.3101     42.3700  ...     63.88   121.700    53.380\n",
              "4  1491226440  2364.8501     42.5378  ...     63.91   121.695    53.240\n",
              "\n",
              "[5 rows x 502 columns]"
            ]
          },
          "metadata": {
            "tags": []
          },
          "execution_count": 5
        }
      ]
    },
    {
      "cell_type": "code",
      "metadata": {
        "colab": {
          "base_uri": "https://localhost:8080/"
        },
        "id": "Jxke-Nv2sl6B",
        "outputId": "73b31523-582f-4ae5-abdb-2cc969a16181"
      },
      "source": [
        "df.shape"
      ],
      "execution_count": null,
      "outputs": [
        {
          "output_type": "execute_result",
          "data": {
            "text/plain": [
              "(41266, 502)"
            ]
          },
          "metadata": {
            "tags": []
          },
          "execution_count": 6
        }
      ]
    },
    {
      "cell_type": "code",
      "metadata": {
        "colab": {
          "base_uri": "https://localhost:8080/"
        },
        "id": "phzlKRDxsoAq",
        "outputId": "5120c2ac-2d67-4ea4-d31f-4b8a5d85156d"
      },
      "source": [
        "df.info()"
      ],
      "execution_count": null,
      "outputs": [
        {
          "output_type": "stream",
          "text": [
            "<class 'pandas.core.frame.DataFrame'>\n",
            "RangeIndex: 41266 entries, 0 to 41265\n",
            "Columns: 502 entries, DATE to NYSE.ZTS\n",
            "dtypes: float64(501), int64(1)\n",
            "memory usage: 158.0 MB\n"
          ],
          "name": "stdout"
        }
      ]
    },
    {
      "cell_type": "code",
      "metadata": {
        "id": "AF6WkJUrss80"
      },
      "source": [
        "from sklearn.decomposition import PCA\r\n",
        "from sklearn.preprocessing import StandardScaler"
      ],
      "execution_count": null,
      "outputs": []
    },
    {
      "cell_type": "code",
      "metadata": {
        "id": "mtsmTS5jsvyk"
      },
      "source": [
        "X=df.values"
      ],
      "execution_count": null,
      "outputs": []
    },
    {
      "cell_type": "code",
      "metadata": {
        "id": "c5w3pRhObfyG"
      },
      "source": [
        "sc=StandardScaler()\r\n",
        "X_scaled=sc.fit_transform(X)"
      ],
      "execution_count": null,
      "outputs": []
    },
    {
      "cell_type": "code",
      "metadata": {
        "colab": {
          "base_uri": "https://localhost:8080/",
          "height": 279
        },
        "id": "ULO6QH2js3aA",
        "outputId": "fa4acbde-eb32-4732-a10a-96080690593a"
      },
      "source": [
        "sns.set_style('whitegrid')\r\n",
        "pca = PCA().fit(X_scaled)\r\n",
        "plt.plot(np.cumsum(pca.explained_variance_ratio_))\r\n",
        "plt.xlabel('number of components')\r\n",
        "plt.ylabel('cumulative explained variance')\r\n",
        "plt.show()"
      ],
      "execution_count": null,
      "outputs": [
        {
          "output_type": "display_data",
          "data": {
            "image/png": "[encoded data removed]",
            "text/plain": [
              "<Figure size 432x288 with 1 Axes>"
            ]
          },
          "metadata": {
            "tags": []
          }
        }
      ]
    },
    {
      "cell_type": "code",
      "metadata": {
        "id": "dnezqKBas4q6"
      },
      "source": [
        "from sklearn.cluster import KMeans"
      ],
      "execution_count": null,
      "outputs": []
    },
    {
      "cell_type": "code",
      "metadata": {
        "colab": {
          "base_uri": "https://localhost:8080/",
          "height": 313
        },
        "id": "bBx79bA5tMK8",
        "outputId": "3a77b009-8060-4a8d-8c6c-3e4158169b59"
      },
      "source": [
        "wcss=[]\r\n",
        "for i in range(1, 21):\r\n",
        "    kmeans = KMeans(n_clusters = i, init = 'k-means++', random_state = 0)\r\n",
        "    kmeans.fit(X_scaled)\r\n",
        "    wcss.append(kmeans.inertia_)\r\n",
        "plt.plot(range(1, 21), wcss)\r\n",
        "plt.title('The Elbow Method')\r\n",
        "plt.xlabel('Number of clusters')\r\n",
        "plt.ylabel('Mean Squared Errors')\r\n",
        "plt.figure(figsize=(10,8))\r\n",
        "plt.show()"
      ],
      "execution_count": null,
      "outputs": [
        {
          "output_type": "display_data",
          "data": {
            "image/png": "[encoded data removed]",
            "text/plain": [
              "<Figure size 432x288 with 1 Axes>"
            ]
          },
          "metadata": {
            "tags": []
          }
        },
        {
          "output_type": "display_data",
          "data": {
            "text/plain": [
              "<Figure size 720x576 with 0 Axes>"
            ]
          },
          "metadata": {
            "tags": []
          }
        }
      ]
    },
    {
      "cell_type": "markdown",
      "metadata": {
        "id": "z35izdMjuYT2"
      },
      "source": [
        "Seems like when no of clusters=5 the graph starts to dip further"
      ]
    },
    {
      "cell_type": "code",
      "metadata": {
        "id": "IZbO3FFitO3O"
      },
      "source": [
        "k_means = KMeans(n_clusters=5,random_state=0,init='k-means++')\r\n",
        "k_means.fit(X_scaled)\r\n",
        "y_kmeans = k_means.fit_predict(X_scaled)\r\n",
        "labels = k_means.labels_"
      ],
      "execution_count": null,
      "outputs": []
    },
    {
      "cell_type": "code",
      "metadata": {
        "colab": {
          "base_uri": "https://localhost:8080/"
        },
        "id": "gcXKLf7Kungz",
        "outputId": "0753842c-7578-4001-c5c6-6b2b78f303d3"
      },
      "source": [
        "type(labels)"
      ],
      "execution_count": null,
      "outputs": [
        {
          "output_type": "execute_result",
          "data": {
            "text/plain": [
              "numpy.ndarray"
            ]
          },
          "metadata": {
            "tags": []
          },
          "execution_count": 37
        }
      ]
    },
    {
      "cell_type": "code",
      "metadata": {
        "id": "ztgggiqcvtNV"
      },
      "source": [
        "import numpy as np"
      ],
      "execution_count": null,
      "outputs": []
    },
    {
      "cell_type": "code",
      "metadata": {
        "colab": {
          "base_uri": "https://localhost:8080/"
        },
        "id": "09YqIoqOu10Q",
        "outputId": "87414712-da57-47f6-d5eb-d24e9c092b0a"
      },
      "source": [
        "np.unique(labels)\r\n",
        "\r\n",
        "print('No of Clusters Formed and labels: ',len(np.unique(labels)),np.unique(labels))"
      ],
      "execution_count": null,
      "outputs": [
        {
          "output_type": "stream",
          "text": [
            "No of Clusters Formed and labels:  5 [0 1 2 3 4]\n"
          ],
          "name": "stdout"
        }
      ]
    },
    {
      "cell_type": "code",
      "metadata": {
        "colab": {
          "base_uri": "https://localhost:8080/"
        },
        "id": "JjtY_-Wqvwoc",
        "outputId": "f8470ffe-e583-4582-e9bc-cba8269b61c0"
      },
      "source": [
        "y_kmeans[:50]"
      ],
      "execution_count": null,
      "outputs": [
        {
          "output_type": "execute_result",
          "data": {
            "text/plain": [
              "array([1, 1, 1, 1, 1, 1, 1, 1, 1, 1, 1, 1, 1, 1, 1, 1, 1, 1, 1, 1, 1, 1,\n",
              "       1, 1, 1, 1, 1, 1, 1, 1, 1, 1, 1, 1, 1, 1, 1, 1, 1, 1, 1, 1, 1, 1,\n",
              "       1, 1, 1, 1, 1, 1], dtype=int32)"
            ]
          },
          "metadata": {
            "tags": []
          },
          "execution_count": 40
        }
      ]
    },
    {
      "cell_type": "code",
      "metadata": {
        "colab": {
          "base_uri": "https://localhost:8080/"
        },
        "id": "bRyy0ih6zHaU",
        "outputId": "c502bc8a-a176-4ac5-b2d1-ed937601ef1f"
      },
      "source": [
        "X_scaled[:50]"
      ],
      "execution_count": null,
      "outputs": [
        {
          "output_type": "execute_result",
          "data": {
            "text/plain": [
              "array([[-1.70648886, -1.46442566, -1.65013444, ..., -1.95578373,\n",
              "         0.10281519, -2.04188417],\n",
              "       [-1.70647316, -1.45203837, -1.64093012, ..., -1.98549977,\n",
              "         0.06179505, -2.04188417],\n",
              "       [-1.70645747, -1.4879413 , -1.65627065, ..., -1.98302344,\n",
              "         0.04931066, -2.03740234],\n",
              "       ...,\n",
              "       [-1.70575106, -1.55670091, -1.70842849, ..., -1.99788146,\n",
              "         0.05822808, -2.0807267 ],\n",
              "       [-1.70573536, -1.55771464, -1.72223497, ..., -1.98797611,\n",
              "         0.07606292, -2.08969036],\n",
              "       [-1.70571966, -1.56049041, -1.72376902, ..., -1.97807076,\n",
              "         0.06536202, -2.09641311]])"
            ]
          },
          "metadata": {
            "tags": []
          },
          "execution_count": 41
        }
      ]
    },
    {
      "cell_type": "code",
      "metadata": {
        "colab": {
          "base_uri": "https://localhost:8080/"
        },
        "id": "you61vVMwaAJ",
        "outputId": "e3e65fe4-63e8-49b8-b75d-155dcfa4cb9a"
      },
      "source": [
        "labels[:50]"
      ],
      "execution_count": null,
      "outputs": [
        {
          "output_type": "execute_result",
          "data": {
            "text/plain": [
              "array([1, 1, 1, 1, 1, 1, 1, 1, 1, 1, 1, 1, 1, 1, 1, 1, 1, 1, 1, 1, 1, 1,\n",
              "       1, 1, 1, 1, 1, 1, 1, 1, 1, 1, 1, 1, 1, 1, 1, 1, 1, 1, 1, 1, 1, 1,\n",
              "       1, 1, 1, 1, 1, 1], dtype=int32)"
            ]
          },
          "metadata": {
            "tags": []
          },
          "execution_count": 42
        }
      ]
    },
    {
      "cell_type": "code",
      "metadata": {
        "colab": {
          "base_uri": "https://localhost:8080/"
        },
        "id": "IFlwoqxQwcsQ",
        "outputId": "1e946b11-b479-4a48-b71a-c33b0e766a6e"
      },
      "source": [
        "k_means.cluster_centers_"
      ],
      "execution_count": null,
      "outputs": [
        {
          "output_type": "execute_result",
          "data": {
            "text/plain": [
              "array([[ 0.62422718,  0.75632039,  1.22411556, ...,  0.56820024,\n",
              "         1.19883358,  0.71589855],\n",
              "       [-1.45078376, -1.61356013, -1.20201709, ..., -1.78873314,\n",
              "        -0.07780742, -1.99417301],\n",
              "       [ 1.35231698,  0.89780501, -0.10675508, ...,  0.99385398,\n",
              "        -1.31667308,  0.33557219],\n",
              "       [-0.85121962, -0.79235152, -0.77367056, ..., -0.73394298,\n",
              "        -0.48403676, -0.34995279],\n",
              "       [-0.14244704,  0.24465455,  0.45317278, ...,  0.41475655,\n",
              "         0.59100159,  0.7366224 ]])"
            ]
          },
          "metadata": {
            "tags": []
          },
          "execution_count": 43
        }
      ]
    },
    {
      "cell_type": "code",
      "metadata": {
        "colab": {
          "base_uri": "https://localhost:8080/"
        },
        "id": "BY8FBhXAxXMB",
        "outputId": "d4701421-8f00-4753-fc14-4782d07f0c95"
      },
      "source": [
        "X_scaled[y_kmeans==1,1]"
      ],
      "execution_count": null,
      "outputs": [
        {
          "output_type": "execute_result",
          "data": {
            "text/plain": [
              "array([-1.46442566, -1.45203837, -1.4879413 , ..., -0.86452662,\n",
              "       -0.8592203 , -0.8592203 ])"
            ]
          },
          "metadata": {
            "tags": []
          },
          "execution_count": 44
        }
      ]
    },
    {
      "cell_type": "code",
      "metadata": {
        "id": "RMvm2qCjzkJp",
        "colab": {
          "base_uri": "https://localhost:8080/"
        },
        "outputId": "30071023-da96-4cc6-fdf1-b68a480183e4"
      },
      "source": [
        "len(labels)"
      ],
      "execution_count": null,
      "outputs": [
        {
          "output_type": "execute_result",
          "data": {
            "text/plain": [
              "41266"
            ]
          },
          "metadata": {
            "tags": []
          },
          "execution_count": 45
        }
      ]
    },
    {
      "cell_type": "code",
      "metadata": {
        "colab": {
          "base_uri": "https://localhost:8080/"
        },
        "id": "LRx5a_sYaPGW",
        "outputId": "a26bcc0f-88bf-4637-ac81-3fa28293d3cf"
      },
      "source": [
        "len(y_kmeans)"
      ],
      "execution_count": null,
      "outputs": [
        {
          "output_type": "execute_result",
          "data": {
            "text/plain": [
              "41266"
            ]
          },
          "metadata": {
            "tags": []
          },
          "execution_count": 46
        }
      ]
    },
    {
      "cell_type": "code",
      "metadata": {
        "colab": {
          "base_uri": "https://localhost:8080/",
          "height": 295
        },
        "id": "K0xo-VjXaRAZ",
        "outputId": "0f070a57-baa3-490b-a450-9150248bc24d"
      },
      "source": [
        "#sns.scatterplot(X[y_kmeans==0,0], X[y_kmeans==0,1],alpha=0.2)\r\n",
        "plt.scatter(X_scaled[y_kmeans == 0, 0], X_scaled[y_kmeans == 0, 1], s = 100, c = 'red', label = 'Cluster 1',edgecolors='none',marker='+',alpha=0.6)\r\n",
        "plt.scatter(X_scaled[y_kmeans == 1, 0], X_scaled[y_kmeans == 1, 1], s = 100, c = 'blue', label = 'Cluster 2',edgecolors='none',marker='x',alpha=0.4)\r\n",
        "plt.scatter(X_scaled[y_kmeans == 2, 0], X_scaled[y_kmeans == 2, 1], s = 100, c = 'green', label = 'Cluster 3',edgecolors='none',marker='4')\r\n",
        "plt.scatter(X_scaled[y_kmeans == 3, 0], X_scaled[y_kmeans == 3, 1], s = 100, c = 'cyan', label = 'Cluster 4',edgecolors='none',marker='d')\r\n",
        "plt.scatter(X_scaled[y_kmeans == 4, 0], X_scaled[y_kmeans == 4, 1], s = 100, c = 'magenta', label = 'Cluster 5',edgecolors='none',alpha=0.2)\r\n",
        "plt.title('Clusters of stocks')\r\n",
        "plt.xlabel('Principal Component (1)')\r\n",
        "plt.ylabel('Principal Component (2)')\r\n",
        "plt.legend()\r\n",
        "plt.show()"
      ],
      "execution_count": null,
      "outputs": [
        {
          "output_type": "display_data",
          "data": {
            "image/png": "[encoded data removed]",
            "text/plain": [
              "<Figure size 432x288 with 1 Axes>"
            ]
          },
          "metadata": {
            "tags": []
          }
        }
      ]
    },
    {
      "cell_type": "code",
      "metadata": {
        "colab": {
          "base_uri": "https://localhost:8080/"
        },
        "id": "T00NxgHfaxRD",
        "outputId": "c840af0f-15fe-4473-a43c-e87583d2bc28"
      },
      "source": [
        "X"
      ],
      "execution_count": null,
      "outputs": [
        {
          "output_type": "execute_result",
          "data": {
            "text/plain": [
              "array([[1.49122620e+09, 2.36361010e+03, 4.23300000e+01, ...,\n",
              "        6.38600000e+01, 1.22000000e+02, 5.33500000e+01],\n",
              "       [1.49122626e+09, 2.36410010e+03, 4.23600000e+01, ...,\n",
              "        6.37400000e+01, 1.21770000e+02, 5.33500000e+01],\n",
              "       [1.49122632e+09, 2.36267990e+03, 4.23100000e+01, ...,\n",
              "        6.37500000e+01, 1.21700000e+02, 5.33650000e+01],\n",
              "       ...,\n",
              "       [1.50420948e+09, 2.47003000e+03, 4.47400000e+01, ...,\n",
              "        7.68800000e+01, 1.14310000e+02, 6.26850000e+01],\n",
              "       [1.50420954e+09, 2.47149000e+03, 4.47100000e+01, ...,\n",
              "        7.68300000e+01, 1.14230000e+02, 6.26301000e+01],\n",
              "       [1.50420960e+09, 2.47149000e+03, 4.47400000e+01, ...,\n",
              "        7.68100000e+01, 1.14280000e+02, 6.26800000e+01]])"
            ]
          },
          "metadata": {
            "tags": []
          },
          "execution_count": 26
        }
      ]
    },
    {
      "cell_type": "code",
      "metadata": {
        "id": "32mP2hcCa_7T"
      },
      "source": [
        ""
      ],
      "execution_count": null,
      "outputs": []
    }
  ]
}