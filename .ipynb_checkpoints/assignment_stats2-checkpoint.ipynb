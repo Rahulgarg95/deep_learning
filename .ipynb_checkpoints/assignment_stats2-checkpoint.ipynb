{
 "cells": [
  {
   "cell_type": "code",
   "execution_count": 8,
   "metadata": {},
   "outputs": [],
   "source": [
    "import pandas as pd\n",
    "import numpy as np\n",
    "import scipy.stats as sc"
   ]
  },
  {
   "cell_type": "markdown",
   "metadata": {},
   "source": [
    "**Problem Statement 1:**\n",
    "\n",
    "**In each of the following situations, state whether it is a correctly stated hypothesis\n",
    "testing problem and why?**\n",
    "1. H0: μ = 25, H1: μ ≠ 25\n",
    "        => Correctly stated, it is a two tailed test.\n",
    "2. H0: σ > 10, H1: σ = 10\n",
    "        => Incorrectly stated, H1 should be σ<=10 to make it one tailed test\n",
    "3. H0: x = 50, H1: x ≠ 50\n",
    "        => Correctly stated, it is a two tailed test.\n",
    "4. H0: p = 0.1, H1: p = 0.5\n",
    "        => Incorrectly Stated, H1 should be p ≠ 0.1\n",
    "5. H0: s = 30, H1: s > 30\n",
    "        => Incorrectly Stated, H1 should be s ≠ 30(for two tailed test) or H0: s<=30 (for one tailed test)"
   ]
  },
  {
   "cell_type": "markdown",
   "metadata": {},
   "source": [
    "**Problem Statement 2:**\n",
    "\n",
    "\n",
    "**The college bookstore tells prospective students that the average cost of its\n",
    "textbooks is Rs. 52 with a standard deviation of Rs. 4.50. A group of smart statistics\n",
    "students thinks that the average cost is higher. To test the bookstore’s claim against\n",
    "their alternative, the students will select a random sample of size 100. Assume that\n",
    "the mean from their random sample is Rs. 52.80. Perform a hypothesis test at the\n",
    "5% level of significance and state your decision.**"
   ]
  },
  {
   "cell_type": "code",
   "execution_count": 11,
   "metadata": {},
   "outputs": [
    {
     "name": "stdout",
     "output_type": "stream",
     "text": [
      "Z test value is:  1.78\n",
      "p value:  0.0754403596268014\n",
      "Bookseller claim is right & we accept the NULL hypothesis...\n"
     ]
    }
   ],
   "source": [
    "# H0: μ = 52, H1: μ ≠ 52\n",
    "#Above is a two tailed test...........\n",
    "\n",
    "p_mean=52\n",
    "p_std=4.5\n",
    "n=100\n",
    "samp_mean=52.80\n",
    "alpha=0.05\n",
    "\n",
    "#As sample size is large and distribution is unknown we will go ahead with z-test\n",
    "std_err=p_std/np.sqrt(n)\n",
    "\n",
    "z_test=(samp_mean-p_mean)/std_err\n",
    "\n",
    "print('Z test value is: ',round(z_test,2))\n",
    "\n",
    "p=2*(1-(sc.norm.cdf(np.absolute(z_test))))\n",
    "print('p value: ',p)\n",
    "\n",
    "if(p<alpha):\n",
    "    print('Bookseller claim is wrong & We reject the NULL hypothesis...')\n",
    "else:\n",
    "    print('Bookseller claim is right & we accept the NULL hypothesis...')"
   ]
  },
  {
   "cell_type": "markdown",
   "metadata": {},
   "source": [
    "**Problem Statement 3:**\n",
    "\n",
    "**A certain chemical pollutant in the Genesee River has been constant for several\n",
    "years with mean μ = 34 ppm (parts per million) and standard deviation σ = 8 ppm. A\n",
    "group of factory representatives whose companies discharge liquids into the river is\n",
    "now claiming that they have lowered the average with improved filtration devices. A\n",
    "group of environmentalists will test to see if this is true at the 1% level of\n",
    "significance. Assume \\ that their sample of size 50 gives a mean of 32.5 ppm.\n",
    "Perform a hypothesis test at the 1% level of significance and state your decision.**"
   ]
  },
  {
   "cell_type": "code",
   "execution_count": 12,
   "metadata": {},
   "outputs": [
    {
     "name": "stdout",
     "output_type": "stream",
     "text": [
      "Z test value is:  -1.33\n",
      "p value:  0.9075512005172\n",
      "We accept the NULL hypothesis...\n"
     ]
    }
   ],
   "source": [
    "# H0: μ = 34, H1: μ < 34\n",
    "#Above is a one tailed test...........\n",
    "\n",
    "p_mean=34\n",
    "p_std=8\n",
    "n=50\n",
    "samp_mean=32.5\n",
    "alpha=0.01\n",
    "\n",
    "#As sample size is large and distribution is unknown we will go ahead with z-test\n",
    "std_err=p_std/np.sqrt(n)\n",
    "\n",
    "z_test=(samp_mean-p_mean)/std_err\n",
    "\n",
    "print('Z test value is: ',round(z_test,2))\n",
    "\n",
    "p=sc.norm.cdf(np.absolute(z_test))\n",
    "print('p value: ',p)\n",
    "\n",
    "if(p<alpha):\n",
    "    print('We reject the NULL hypothesis...')\n",
    "else:\n",
    "    print('We accept the NULL hypothesis...')"
   ]
  },
  {
   "cell_type": "markdown",
   "metadata": {},
   "source": [
    "**Problem Statement 4:**\n",
    "\n",
    "**Based on population figures and other general information on the U.S. population,\n",
    "suppose it has been estimated that, on average, a family of four in the U.S. spends\n",
    "about $1135 annually on dental expenditures. Suppose further that a regional dental\n",
    "association wants to test to determine if this figure is accurate for their area of\n",
    "country. To test this, 22 families of 4 are randomly selected from the population in\n",
    "that area of the country and a log is kept of the family’s dental expenditure for one\n",
    "year. The resulting data are given below. Assuming, that dental expenditure is\n",
    "normally distributed in the population, use the data and an alpha of 0.5 to test the\n",
    "dental association’s hypothesis.**\n",
    "\n",
    "**1008, 812, 1117, 1323, 1308, 1415, 831, 1021, 1287, 851, 930, 730, 699,\n",
    "872, 913, 944, 954, 987, 1695, 995, 1003, 994**"
   ]
  },
  {
   "cell_type": "code",
   "execution_count": 15,
   "metadata": {},
   "outputs": [
    {
     "name": "stdout",
     "output_type": "stream",
     "text": [
      "T-test Value:  -2.070747228595759\n",
      "p val:  0.050898290089189\n",
      "We accept the NULL hypothesis...\n"
     ]
    }
   ],
   "source": [
    "#Sample size is less than 30 hence t test is used\n",
    "#Two tailed test\n",
    "p_mean=1135\n",
    "apha=0.5\n",
    "data=[1008, 812, 1117, 1323, 1308, 1415, 831, 1021, 1287, 851, 930, 730, 699, 872, 913, 944, 954, 987, 1695, 995, 1003, 994]\n",
    "\n",
    "s_mean=np.mean(data)\n",
    "s_std=np.std(data)\n",
    "n=len(data)\n",
    "\n",
    "std_err=s_std/np.sqrt(n)\n",
    "\n",
    "t_test=(s_mean-p_mean)/std_err\n",
    "\n",
    "p=2*(1-sc.t.cdf(x=np.absolute(t_test),df=21))\n",
    "\n",
    "print('T-test Value: ',t_test)\n",
    "print('p val: ',p)\n",
    "\n",
    "if(p<alpha):\n",
    "    print('We reject the NULL hypothesis...')\n",
    "else:\n",
    "    print('We accept the NULL hypothesis...')"
   ]
  },
  {
   "cell_type": "markdown",
   "metadata": {},
   "source": [
    "**Problem Statement 5:**\n",
    "\n",
    "**In a report prepared by the Economic Research Department of a major bank the Department manager maintains that the average annual family income on Metropolis is 48,432. What do you conclude about the validity of the report if a random sample of 400 families shows and average income of 48,574 with a standard deviation of 2000?**"
   ]
  },
  {
   "cell_type": "code",
   "execution_count": 16,
   "metadata": {},
   "outputs": [
    {
     "name": "stdout",
     "output_type": "stream",
     "text": [
      "Z test value is:  1.42\n",
      "p value:  0.15560768105309286\n",
      "We accept the NULL hypothesis...\n"
     ]
    }
   ],
   "source": [
    "#Two tailed test to be used and z-test to be used as sample size > 400\n",
    "p_mean=48432\n",
    "n=400\n",
    "samp_mean=48574\n",
    "sample_std=2000\n",
    "alpha=0.05\n",
    "\n",
    "std_err=sample_std/np.sqrt(n)\n",
    "\n",
    "z_test=(samp_mean-p_mean)/std_err\n",
    "\n",
    "print('Z test value is: ',round(z_test,2))\n",
    "\n",
    "p=2*(1-(sc.norm.cdf(np.absolute(z_test))))\n",
    "print('p value: ',p)\n",
    "\n",
    "if(p<alpha):\n",
    "    print('We reject the NULL hypothesis...')\n",
    "else:\n",
    "    print('We accept the NULL hypothesis...')"
   ]
  },
  {
   "cell_type": "markdown",
   "metadata": {},
   "source": [
    "**Problem Statement 6:**\n",
    "    \n",
    "**Suppose that in past years the average price per square foot for warehouses in the\n",
    "United States has been 32.28. A national real estate investor wants to determine\n",
    "whether that figure has changed now. The investor hires a researcher who randomly\n",
    "samples 19 warehouses that are for sale across the United States and finds that the\n",
    "mean price per square foot is 31.67, with a standard deviation of 1.29. assume\n",
    "that the prices of warehouse footage are normally distributed in population. If the\n",
    "researcher uses a 5% level of significance, what statistical conclusion can be\n",
    "reached? What are the hypotheses?**"
   ]
  },
  {
   "cell_type": "code",
   "execution_count": 17,
   "metadata": {},
   "outputs": [
    {
     "name": "stdout",
     "output_type": "stream",
     "text": [
      "T-test Value:  -2.06118477175179\n",
      "p val:  0.05188329335811237\n",
      "We accept the NULL hypothesis...\n"
     ]
    }
   ],
   "source": [
    "#The problem statement indicates from a two tailed test\n",
    "#If n<30 then t-test should be used\n",
    "p_mean=32.28\n",
    "n=19\n",
    "samp_mean=31.67\n",
    "samp_std=1.29\n",
    "alpha=0.05\n",
    "\n",
    "std_err=samp_std/np.sqrt(n)\n",
    "\n",
    "t_test=(samp_mean-p_mean)/std_err\n",
    "\n",
    "p=2*(1-sc.t.cdf(x=np.absolute(t_test),df=21))\n",
    "\n",
    "print('T-test Value: ',t_test)\n",
    "print('p val: ',p)\n",
    "\n",
    "if(p<alpha):\n",
    "    print('We reject the NULL hypothesis...')\n",
    "else:\n",
    "    print('We accept the NULL hypothesis...')"
   ]
  },
  {
   "cell_type": "markdown",
   "metadata": {},
   "source": [
    "**Problem Statement 8:**\n",
    "    \n",
    "**Find the t-score for a sample size of 16 taken from a population with mean 10 when\n",
    "the sample mean is 12 and the sample standard deviation is 1.5.**"
   ]
  },
  {
   "cell_type": "code",
   "execution_count": 19,
   "metadata": {},
   "outputs": [
    {
     "name": "stdout",
     "output_type": "stream",
     "text": [
      "T-test Value:  5.33\n"
     ]
    }
   ],
   "source": [
    "p_mean=10\n",
    "n=16\n",
    "samp_mean=12\n",
    "samp_std=1.5\n",
    "\n",
    "std_err=samp_std/np.sqrt(n)\n",
    "\n",
    "t_test=(samp_mean-p_mean)/std_err\n",
    "\n",
    "print('T-test Value: ',round(t_test,2))"
   ]
  },
  {
   "cell_type": "markdown",
   "metadata": {},
   "source": [
    "**Problem Statement 9:**\n",
    "    \n",
    "**Find the t-score below which we can expect 99% of sample means will fall if samples\n",
    "of size 16 are taken from a normally distributed population.**"
   ]
  },
  {
   "cell_type": "code",
   "execution_count": 20,
   "metadata": {},
   "outputs": [
    {
     "name": "stdout",
     "output_type": "stream",
     "text": [
      "T-score is:  2.602480294995493\n"
     ]
    }
   ],
   "source": [
    "print('T-score is: ',sc.t.ppf(q=0.99,df=15))"
   ]
  },
  {
   "cell_type": "markdown",
   "metadata": {},
   "source": [
    "**Problem Statement 10:**\n",
    "\n",
    "**If a random sample of size 25 drawn from a normal population gives a mean of 60\n",
    "and a standard deviation of 4, find the range of t-scores where we can expect to find\n",
    "the middle 95% of all sample means.  \n",
    "Compute the probability that (−t0.05 <t<t0.10).**"
   ]
  },
  {
   "cell_type": "code",
   "execution_count": 21,
   "metadata": {},
   "outputs": [
    {
     "name": "stdout",
     "output_type": "stream",
     "text": [
      "T-score is:  1.7108820799094275\n",
      "Probability:  0.85\n"
     ]
    }
   ],
   "source": [
    "print('T-score is: ',sc.t.ppf(q=0.95,df=24))\n",
    "print('Probability: ',1-0.15)"
   ]
  },
  {
   "cell_type": "markdown",
   "metadata": {},
   "source": [
    "**Problem Statement 11:**\n",
    "\n",
    "**Two-tailed test for difference between two population means\n",
    "Is there evidence to conclude that the number of people travelling from Bangalore to\n",
    "Chennai is different from the number of people travelling from Bangalore to Hosur in\n",
    "a week, given the following:**\n",
    "\n",
    "**Population 1: Bangalore to Chennai   \n",
    "            n1 = 1200  \n",
    "            x1 = 452  \n",
    "            s1 = 212**\n",
    "    \n",
    "**Population 2: Bangalore to Hosur  \n",
    "            n2 = 800  \n",
    "            x2 = 523  \n",
    "            s2 = 185**"
   ]
  },
  {
   "cell_type": "code",
   "execution_count": 25,
   "metadata": {},
   "outputs": [
    {
     "name": "stdout",
     "output_type": "stream",
     "text": [
      "Standard Err:  8.957375917830698\n",
      "Z-test value is:  -7.926428526759299\n",
      "p value:  2.220446049250313e-15\n",
      "We reject the NULL hypothesis...\n"
     ]
    }
   ],
   "source": [
    "#NULL Hypothesis=> No of people travelling from bangalore to chennai is same as no of people travelling from bangalore to hosur.\n",
    "#Population 1:\n",
    "n1=1200\n",
    "x1=452\n",
    "s1=212\n",
    "#Population 2:\n",
    "n2=800\n",
    "x2=523\n",
    "s2=185\n",
    "\n",
    "std_err=np.sqrt((s1**2/n1)+(s2**2/n2))\n",
    "print('Standard Err: ',std_err)\n",
    "\n",
    "z_test=((x1-x2)/std_err)\n",
    "print('Z-test value is: ',z_test)\n",
    "\n",
    "p=2*(1-(sc.norm.cdf(np.absolute(z_test))))\n",
    "print('p value: ',p)\n",
    "\n",
    "if(p<alpha):\n",
    "    print('We reject the NULL hypothesis...')\n",
    "else:\n",
    "    print('We accept the NULL hypothesis...')"
   ]
  },
  {
   "cell_type": "markdown",
   "metadata": {},
   "source": [
    "**Problem Statement 12:**\n",
    "    \n",
    "**Is there evidence to conclude that the number of people preferring Duracell battery is\n",
    "different from the number of people preferring Energizer battery, given the following:  \n",
    "Population 1: Duracell  \n",
    "n1 = 100  \n",
    "x1 = 308  \n",
    "s1 = 84**\n",
    "\n",
    "**Population 2: Energizer  \n",
    "n2 = 100  \n",
    "x2 = 254  \n",
    "s2 = 67**"
   ]
  },
  {
   "cell_type": "code",
   "execution_count": 27,
   "metadata": {},
   "outputs": [
    {
     "name": "stdout",
     "output_type": "stream",
     "text": [
      "Standard Err:  10.74476616776745\n",
      "Z-test value is:  5.025702668336442\n",
      "p value:  5.015925257367826e-07\n",
      "We reject the NULL hypothesis...\n"
     ]
    }
   ],
   "source": [
    "#NULL Hypothesis=> No of people preferring Duracell battery is equal to the once using Energizer.\n",
    "#Population 1:\n",
    "n1=100\n",
    "x1=308\n",
    "s1=84\n",
    "#Population 2:\n",
    "n2=100\n",
    "x2=254\n",
    "s2=67\n",
    "\n",
    "std_err=np.sqrt((s1**2/n1)+(s2**2/n2))\n",
    "print('Standard Err: ',std_err)\n",
    "\n",
    "z_test=((x1-x2)/std_err)\n",
    "print('Z-test value is: ',z_test)\n",
    "\n",
    "p=2*(1-(sc.norm.cdf(np.absolute(z_test))))\n",
    "print('p value: ',p)\n",
    "\n",
    "if(p<alpha):\n",
    "    print('We reject the NULL hypothesis...')\n",
    "else:\n",
    "    print('We accept the NULL hypothesis...')"
   ]
  },
  {
   "cell_type": "markdown",
   "metadata": {},
   "source": [
    "**Problem Statement 13:**\n",
    "    \n",
    "**Pooled estimate of the population variance\n",
    "Does the data provide sufficient evidence to conclude that average percentage\n",
    "increase in the price of sugar differs when it is sold at two different prices?\n",
    "Population 1:  \n",
    "Price of sugar = Rs. 27.50  \n",
    "n1 = 14  \n",
    "x1 = 0.317%  \n",
    "s1 = 0.12%**\n",
    "\n",
    "**Population 2:  \n",
    "Price of sugar = Rs. 20.00  \n",
    "n2 = 9  \n",
    "x2 = 0.21%  \n",
    "s2 = 0.11%**"
   ]
  },
  {
   "cell_type": "code",
   "execution_count": 32,
   "metadata": {},
   "outputs": [
    {
     "name": "stdout",
     "output_type": "stream",
     "text": [
      "Degree Of Freedom:  21\n",
      "122.04499999999999 37.8\n",
      "46.199999999999996 19.8\n"
     ]
    }
   ],
   "source": [
    "#As the samples are too small we use t-test\n",
    "n1=14\n",
    "x1=0.317*n1*27.5\n",
    "s1=0.12*n1*27.5\n",
    "\n",
    "n2=9\n",
    "x2=0.21*n2*20\n",
    "s2=0.11*n2*20\n",
    "\n",
    "degree_of_freedom=n1+n2-2\n",
    "print('Degree Of Freedom: ',degree_of_freedom)\n",
    "print(x1,x2)\n",
    "print(s1,s2)"
   ]
  },
  {
   "cell_type": "markdown",
   "metadata": {},
   "source": [
    "**Problem Statement 14:**\n",
    "    \n",
    "**The manufacturers of compact disk players want to test whether a small price\n",
    "reduction is enough to increase sales of their product. Is there evidence that the\n",
    "small price reduction is enough to increase sales of compact disk players?**  \n",
    "**Population 1: Before reduction  \n",
    "n1 = 15  \n",
    "x1 = Rs. 6598 s1 = Rs. 844**  \n",
    "\n",
    "**Population 2: After reduction n2 = 12  \n",
    "x2 = RS. 6870  \n",
    "s2 = Rs. 669**"
   ]
  },
  {
   "cell_type": "code",
   "execution_count": 33,
   "metadata": {},
   "outputs": [
    {
     "name": "stdout",
     "output_type": "stream",
     "text": [
      "T-test value is:  -90.2763132503892\n",
      "We reject the NULL hypothesis...\n"
     ]
    }
   ],
   "source": [
    "n1=15\n",
    "x1=6598\n",
    "s1=844\n",
    "\n",
    "n2=12\n",
    "x2=6870\n",
    "s2=669\n",
    "\n",
    "std_dev=np.sqrt((s1+s2)/(n1+n2-2))\n",
    "\n",
    "std_err=std_dev * np.sqrt((1/n1)+(1/n2))\n",
    "\n",
    "t_test=(x1-x2)/std_err\n",
    "\n",
    "print('T-test value is: ',t_test)\n",
    "\n",
    "p=sc.t.cdf(t_test,df=n1+n2-1)\n",
    "\n",
    "if(p<alpha):\n",
    "    print('We reject the NULL hypothesis...')\n",
    "else:\n",
    "    print('We accept the NULL hypothesis...')"
   ]
  },
  {
   "cell_type": "code",
   "execution_count": null,
   "metadata": {},
   "outputs": [],
   "source": []
  }
 ],
 "metadata": {
  "kernelspec": {
   "display_name": "Python 3",
   "language": "python",
   "name": "python3"
  },
  "language_info": {
   "codemirror_mode": {
    "name": "ipython",
    "version": 3
   },
   "file_extension": ".py",
   "mimetype": "text/x-python",
   "name": "python",
   "nbconvert_exporter": "python",
   "pygments_lexer": "ipython3",
   "version": "3.8.6"
  }
 },
 "nbformat": 4,
 "nbformat_minor": 4
}
