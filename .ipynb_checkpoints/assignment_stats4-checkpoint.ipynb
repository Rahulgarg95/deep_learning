{
 "cells": [
  {
   "cell_type": "code",
   "execution_count": 2,
   "metadata": {},
   "outputs": [],
   "source": [
    "import scipy.stats as st\n",
    "import numpy as np\n",
    "import pandas as pd"
   ]
  },
  {
   "cell_type": "markdown",
   "metadata": {},
   "source": [
    "**Problem Statement 1:**\n",
    "\n",
    "Is gender independent of education level? A random sample of 395 people were surveyed and each person was asked to report the highest education level they obtained. The data that resulted from the survey is summarized in the following table: High School Bachelors Masters Ph.d. Total Female 60 54 46 41 201 Male 40 44 53 57 194 Total 100 98 99 98 395 Question: Are gender and education level dependent at 5% level of significance? In other words, given the data collected above, is there a relationship between the gender of an individual and the level of education that they have obtained?Null Hypothesis H0 : Gender and education level are independent. Alternative Hypothesis H1 : Gender and education level are dependent."
   ]
  },
  {
   "cell_type": "code",
   "execution_count": 7,
   "metadata": {},
   "outputs": [
    {
     "name": "stdout",
     "output_type": "stream",
     "text": [
      "p value is:  0.045886500891747214\n",
      "Null Hypothesis is rejected(Gender and education level are dependent.)\n"
     ]
    }
   ],
   "source": [
    "#Chi square test to be used to get independence of variables\n",
    "\n",
    "alpha=0.05\n",
    "chi2,p,dof,expected=st.chi2_contingency([[60,54,46,41],[40,44,53,57]])\n",
    "\n",
    "print('p value is: ',p)\n",
    "\n",
    "if(p<alpha):\n",
    "    print(\"Null Hypothesis is rejected(Gender and education level are dependent.)\")\n",
    "else:\n",
    "    print('Null Hypothesis is accepted(Gender and education level are independent.)')\n"
   ]
  },
  {
   "cell_type": "markdown",
   "metadata": {},
   "source": [
    "**Problem Statement2:**\n",
    "\n",
    "Using the following data, perform a oneway analysis of variance using α=.05. Write\n",
    "up the results in APA format.\n",
    "\n",
    "[Group1: 51, 45, 33, 45, 67]  \n",
    "[Group2: 23, 43, 23, 43, 45]  \n",
    "[Group3: 56, 76, 74, 87, 56]"
   ]
  },
  {
   "cell_type": "code",
   "execution_count": 8,
   "metadata": {},
   "outputs": [
    {
     "name": "stdout",
     "output_type": "stream",
     "text": [
      "F-value is : 9.747205503009463\n",
      "p-value is : 0.0030597541434430556\n",
      "Null Hypothesis is rejected\n"
     ]
    }
   ],
   "source": [
    "#Null Hypothesis: mean(grp1) == mean(grp2) == mean(grp3)\n",
    "\n",
    "alpha=0.05\n",
    "group1=[51, 45, 33, 45, 67]\n",
    "group2=[23, 43, 23, 43, 45]\n",
    "group3=[56, 76, 74, 87, 56]\n",
    "\n",
    "f,p=st.f_oneway(group1,group2,group3)\n",
    "print(\"F-value is :\",f)\n",
    "print(\"p-value is :\",p)\n",
    "if p<alpha:\n",
    "    print(\"Null Hypothesis is rejected\")\n",
    "else:\n",
    "    print(\"Null Hypothesis is accepted\")"
   ]
  },
  {
   "cell_type": "markdown",
   "metadata": {},
   "source": [
    "**Problem Statement 3:**\n",
    "    \n",
    "Calculate F Test for given 10, 20, 30, 40, 50 and 5,10,15, 20, 25. For 10, 20, 30, 40, 50:"
   ]
  },
  {
   "cell_type": "code",
   "execution_count": 10,
   "metadata": {},
   "outputs": [
    {
     "name": "stdout",
     "output_type": "stream",
     "text": [
      "F-value is : 3.6\n",
      "p-value is : 0.0943497728424377\n"
     ]
    }
   ],
   "source": [
    "#Calculate using builtin fucntion scipy.stats.f_oneway\n",
    "s1=[10,20,30,40,50]\n",
    "s2=[5,10,15,20,25]\n",
    "f,p=st.f_oneway(s1,s2)\n",
    "print(\"F-value is :\",f)\n",
    "print(\"p-value is :\",p)"
   ]
  }
 ],
 "metadata": {
  "kernelspec": {
   "display_name": "Python 3",
   "language": "python",
   "name": "python3"
  },
  "language_info": {
   "codemirror_mode": {
    "name": "ipython",
    "version": 3
   },
   "file_extension": ".py",
   "mimetype": "text/x-python",
   "name": "python",
   "nbconvert_exporter": "python",
   "pygments_lexer": "ipython3",
   "version": "3.8.6"
  }
 },
 "nbformat": 4,
 "nbformat_minor": 4
}
