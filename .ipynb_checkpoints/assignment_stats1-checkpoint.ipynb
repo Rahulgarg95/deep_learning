{
 "cells": [
  {
   "cell_type": "code",
   "execution_count": 1,
   "metadata": {},
   "outputs": [],
   "source": [
    "import numpy as np\n",
    "from scipy import stats"
   ]
  },
  {
   "cell_type": "markdown",
   "metadata": {},
   "source": [
    "**Problem Statement 1:**\n",
    "The marks awarded for an assignment set for a Year 8 class of 20 students were as\n",
    "follows:\n",
    "6 7 5 7 7 8 7 6 9 7 4 10 6 8 8 9 5 6 4 8"
   ]
  },
  {
   "cell_type": "code",
   "execution_count": 2,
   "metadata": {},
   "outputs": [],
   "source": [
    "num_arr=np.array([6,7,5,7,7,8,7,6,9,7,4,10,6,8,8,9,5,6,4,8])"
   ]
  },
  {
   "cell_type": "code",
   "execution_count": 3,
   "metadata": {},
   "outputs": [
    {
     "data": {
      "text/plain": [
       "array([ 6,  7,  5,  7,  7,  8,  7,  6,  9,  7,  4, 10,  6,  8,  8,  9,  5,\n",
       "        6,  4,  8])"
      ]
     },
     "execution_count": 3,
     "metadata": {},
     "output_type": "execute_result"
    }
   ],
   "source": [
    "num_arr"
   ]
  },
  {
   "cell_type": "code",
   "execution_count": 4,
   "metadata": {},
   "outputs": [
    {
     "name": "stdout",
     "output_type": "stream",
     "text": [
      "Mean Marks Of Students:  6.85\n"
     ]
    }
   ],
   "source": [
    "np_mean=np.mean(num_arr)\n",
    "print('Mean Marks Of Students: ',np_mean)"
   ]
  },
  {
   "cell_type": "code",
   "execution_count": 5,
   "metadata": {},
   "outputs": [
    {
     "name": "stdout",
     "output_type": "stream",
     "text": [
      "Median Marks Of Students:  7.0\n"
     ]
    }
   ],
   "source": [
    "np_median=np.median(num_arr)\n",
    "print('Median Marks Of Students: ',np_median)"
   ]
  },
  {
   "cell_type": "code",
   "execution_count": 6,
   "metadata": {},
   "outputs": [
    {
     "name": "stdout",
     "output_type": "stream",
     "text": [
      "Standard Deviation Of Students:  1.5898113095584647\n"
     ]
    }
   ],
   "source": [
    "np_std=np.std(num_arr)\n",
    "print('Standard Deviation Of Students: ',np_std)"
   ]
  },
  {
   "cell_type": "code",
   "execution_count": 7,
   "metadata": {},
   "outputs": [
    {
     "name": "stdout",
     "output_type": "stream",
     "text": [
      "Mode Marks of Students:  7\n"
     ]
    }
   ],
   "source": [
    "np_mode=stats.mode([6,7,5,7,7,8,7,6,9,7,4,10,6,8,8,9,5,6,4,8])\n",
    "print('Mode Marks of Students: ',np_mode.mode[0])"
   ]
  },
  {
   "cell_type": "markdown",
   "metadata": {},
   "source": [
    "**Problem Statement 2:**\n",
    "The number of calls from motorists per day for roadside service was recorded for a\n",
    "particular month:\n",
    "28, 122, 217, 130, 120, 86, 80, 90, 140, 120, 70, 40, 145, 113, 90, 68, 174, 194, 170,\n",
    "100, 75, 104, 97, 75,\n",
    "123, 100, 75, 104, 97, 75, 123, 100, 89, 120, 109"
   ]
  },
  {
   "cell_type": "code",
   "execution_count": 8,
   "metadata": {},
   "outputs": [
    {
     "name": "stdout",
     "output_type": "stream",
     "text": [
      "[ 28 122 217 130 120  86  80  90 140 120  70  40 145 113  90  68 174 194\n",
      " 170 100  75 104  97  75 123 100  75 104  97  75 123 100  89 120 109]\n"
     ]
    }
   ],
   "source": [
    "num_arr=np.array([28, 122, 217, 130, 120, 86, 80, 90, 140, 120, 70, 40, 145, 113, 90, 68, 174, 194, 170, 100, 75, 104, 97, 75, 123, 100, 75, 104, 97, 75, 123, 100, 89, 120, 109])\n",
    "print(num_arr)"
   ]
  },
  {
   "cell_type": "code",
   "execution_count": 9,
   "metadata": {},
   "outputs": [
    {
     "name": "stdout",
     "output_type": "stream",
     "text": [
      "Mean Marks Of Students:  107.51428571428572\n",
      "Median Marks Of Students:  100.0\n",
      "Standard Deviation Of Students:  38.77287080168403\n",
      "Mode Marks of Students:  75\n"
     ]
    }
   ],
   "source": [
    "np_mean=np.mean(num_arr)\n",
    "print('Mean Marks Of Students: ',np_mean)\n",
    "np_median=np.median(num_arr)\n",
    "print('Median Marks Of Students: ',np_median)\n",
    "np_std=np.std(num_arr)\n",
    "print('Standard Deviation Of Students: ',np_std)\n",
    "np_mode=stats.mode([28, 122, 217, 130, 120, 86, 80, 90, 140, 120, 70, 40, 145, 113, 90, 68, 174, 194, 170, 100, 75, 104, 97, 75, 123, 100, 75, 104, 97, 75, 123, 100, 89, 120, 109])\n",
    "print('Mode Marks of Students: ',np_mode.mode[0])"
   ]
  },
  {
   "cell_type": "markdown",
   "metadata": {},
   "source": [
    "**Problem Statement 3:**\n",
    "The number of times I go to the gym in weekdays, are given below along with its\n",
    "associated probability:\n",
    "\n",
    "x = 0, 1, 2, 3, 4, 5\n",
    "\n",
    "f(x) = 0.09, 0.15, 0.40, 0.25, 0.10, 0.01\n",
    "\n",
    "Calculate the mean no. of workouts in a week. Also evaluate the variance involved in\n",
    "it."
   ]
  },
  {
   "cell_type": "code",
   "execution_count": 10,
   "metadata": {},
   "outputs": [],
   "source": [
    "x=np.array([0,1,2,3,4,5])"
   ]
  },
  {
   "cell_type": "code",
   "execution_count": 11,
   "metadata": {},
   "outputs": [],
   "source": [
    "y=np.array([0.09,0.15,0.40,0.25,0.10,0.01])"
   ]
  },
  {
   "cell_type": "code",
   "execution_count": 12,
   "metadata": {},
   "outputs": [
    {
     "name": "stdout",
     "output_type": "stream",
     "text": [
      "Mean is:  2.15\n"
     ]
    }
   ],
   "source": [
    "mean=sum(x*y)/sum(y)\n",
    "print('Mean is: ',mean)"
   ]
  },
  {
   "cell_type": "code",
   "execution_count": 13,
   "metadata": {},
   "outputs": [
    {
     "name": "stdout",
     "output_type": "stream",
     "text": [
      "Variance is:  0.10284722222222224\n"
     ]
    }
   ],
   "source": [
    "var=np.var(x*y)\n",
    "print('Variance is: ',var)"
   ]
  },
  {
   "cell_type": "markdown",
   "metadata": {},
   "source": [
    "**Problem Statement 4:**\n",
    "Let the continuous random variable D denote the diameter of the hole drilled in an\n",
    "aluminum sheet. The target diameter to be achieved is 12.5mm. Random\n",
    "disturbances in the process often result in inaccuracy.\n",
    "Historical data shows that the distribution of D can be modelled by the PDF (d) =\n",
    "20e−20(d−12.5), d ≥ 12.5. If a part with diameter > 12.6 mm needs to be scrapped,\n",
    "what is the proportion of those parts? What is the CDF when the diameter is of 11\n",
    "mm? What is your conclusion regarding the proportion of scraps?"
   ]
  },
  {
   "cell_type": "code",
   "execution_count": 14,
   "metadata": {},
   "outputs": [],
   "source": [
    "def pdf_fuc(d): \n",
    "    return 20*np.exp(-20*(d-12.5))"
   ]
  },
  {
   "cell_type": "code",
   "execution_count": 15,
   "metadata": {},
   "outputs": [],
   "source": [
    "from scipy.integrate import quad"
   ]
  },
  {
   "cell_type": "code",
   "execution_count": 16,
   "metadata": {},
   "outputs": [
    {
     "name": "stdout",
     "output_type": "stream",
     "text": [
      "The proportion of the parts with diameter > 12.6:  0.13533528323661398\n"
     ]
    }
   ],
   "source": [
    "prop_gt_thesh=quad(pdf_fuc,12.6,np.inf)[0]\n",
    "print('The proportion of the parts with diameter > 12.6: ',prop_gt_thesh)"
   ]
  },
  {
   "cell_type": "code",
   "execution_count": 17,
   "metadata": {},
   "outputs": [
    {
     "name": "stdout",
     "output_type": "stream",
     "text": [
      "The proportion of the parts between diameter 12.5 & 12.6:  0.8646647167633718\n"
     ]
    }
   ],
   "source": [
    "prop_bw_val=quad(pdf_fuc,12.5,12.6)[0]\n",
    "print('The proportion of the parts between diameter 12.5 & 12.6: ',prop_bw_val)"
   ]
  },
  {
   "cell_type": "code",
   "execution_count": 21,
   "metadata": {},
   "outputs": [
    {
     "name": "stdout",
     "output_type": "stream",
     "text": [
      "CDF at diameter 11cm: 0\n"
     ]
    }
   ],
   "source": [
    "print('CDF at diameter 11cm: 0')"
   ]
  },
  {
   "cell_type": "markdown",
   "metadata": {},
   "source": [
    "Concusion: The proportion of parts between 12.5 to 12.6 diameter is approx 86.5% and that greater than 12.5 is approx 13.4 which sums to 1 which means the proprtion of parts than than 12.5 is **zero**."
   ]
  },
  {
   "cell_type": "markdown",
   "metadata": {},
   "source": [
    "**Problem Statement 5:**\n",
    "\n",
    "A company manufactures LED bulbs with a faulty rate of 30%. If I randomly select 6\n",
    "chosen LEDs, what is the probability of having 2 faulty LEDs in my sample?\n",
    "Calculate the average value of this process. Also evaluate the standard deviation\n",
    "associated with it."
   ]
  },
  {
   "cell_type": "code",
   "execution_count": 22,
   "metadata": {},
   "outputs": [],
   "source": [
    "p=0.3\n",
    "q=1-p\n",
    "n=6\n",
    "x=2"
   ]
  },
  {
   "cell_type": "code",
   "execution_count": 23,
   "metadata": {},
   "outputs": [
    {
     "name": "stdout",
     "output_type": "stream",
     "text": [
      "Probability:  0.32\n"
     ]
    }
   ],
   "source": [
    "print('Probability: ',np.round(stats.binom.pmf(k=x,n=6,p=0.3),2))"
   ]
  },
  {
   "cell_type": "code",
   "execution_count": 24,
   "metadata": {},
   "outputs": [
    {
     "name": "stdout",
     "output_type": "stream",
     "text": [
      "Mean is:  1.8 \n",
      "Standard Deviation is:  1.26\n"
     ]
    }
   ],
   "source": [
    "m,v=stats.binom.stats(n=6,p=0.3)\n",
    "print('Mean is: ',np.round(m,2),'\\nStandard Deviation is: ',np.round(v,2))"
   ]
  },
  {
   "cell_type": "markdown",
   "metadata": {},
   "source": [
    "**Problem Statement 6:**\n",
    "Gaurav and Barakha are both preparing for entrance exams. Gaurav attempts to\n",
    "solve 8 questions per day with a correction rate of 75%, while Barakha averages\n",
    "around 12 questions per day with a correction rate of 45%. What is the probability\n",
    "that each of them will solve 5 questions correctly? What happens in cases of 4 and 6\n",
    "correct solutions? What do you infer from it? What are the two main governing\n",
    "factors affecting their ability to solve questions correctly? Give a pictorial\n",
    "representation of the same to validate your answer."
   ]
  },
  {
   "cell_type": "code",
   "execution_count": 30,
   "metadata": {},
   "outputs": [],
   "source": [
    "gaurav=np.random.binomial(n=8,p=0.75,size=10000)\n",
    "barkha=np.random.binomial(n=12,p=0.45,size=10000)"
   ]
  },
  {
   "cell_type": "code",
   "execution_count": 32,
   "metadata": {},
   "outputs": [],
   "source": [
    "import matplotlib.pyplot as plt\n",
    "import seaborn as sns"
   ]
  },
  {
   "cell_type": "code",
   "execution_count": 34,
   "metadata": {},
   "outputs": [
    {
     "data": {
      "text/plain": [
       "[]"
      ]
     },
     "execution_count": 34,
     "metadata": {},
     "output_type": "execute_result"
    },
    {
     "data": {
      "image/png": "[encoded data removed]",
      "text/plain": [
       "<Figure size 432x288 with 1 Axes>"
      ]
     },
     "metadata": {
      "needs_background": "light"
     },
     "output_type": "display_data"
    }
   ],
   "source": [
    "#Distribution of values for Gaurav - Histogram\n",
    "sns.distplot(gaurav, hist=True, kde=False)\n",
    "plt.plot()"
   ]
  },
  {
   "cell_type": "code",
   "execution_count": 35,
   "metadata": {},
   "outputs": [
    {
     "data": {
      "text/plain": [
       "[]"
      ]
     },
     "execution_count": 35,
     "metadata": {},
     "output_type": "execute_result"
    },
    {
     "data": {
      "image/png": "[encoded data removed]",
      "text/plain": [
       "<Figure size 432x288 with 1 Axes>"
      ]
     },
     "metadata": {
      "needs_background": "light"
     },
     "output_type": "display_data"
    }
   ],
   "source": [
    "#Distribution of values for Barkha - Histogram\n",
    "sns.distplot(barkha, hist=True, kde=False)\n",
    "plt.plot()"
   ]
  },
  {
   "cell_type": "code",
   "execution_count": 36,
   "metadata": {},
   "outputs": [
    {
     "name": "stdout",
     "output_type": "stream",
     "text": [
      "[0.0, 0.0003, 0.0043, 0.0234, 0.0892, 0.2043, 0.308, 0.2698, 0.1007]\n",
      "[0.001, 0.0069, 0.0357, 0.0934, 0.1733, 0.2234, 0.2088, 0.1495, 0.072]\n"
     ]
    }
   ],
   "source": [
    "list_g=[]\n",
    "list_b=[]\n",
    "#Now checking the probability of count of answers to be answered\n",
    "for i in range(9):\n",
    "    list_g.append(np.sum(gaurav==i)/10000)\n",
    "    list_b.append(np.sum(barkha==i)/10000)\n",
    "    \n",
    "print(list_g)\n",
    "print(list_b)"
   ]
  },
  {
   "cell_type": "code",
   "execution_count": 37,
   "metadata": {},
   "outputs": [
    {
     "name": "stdout",
     "output_type": "stream",
     "text": [
      "Prob gaurav solves 5 prob:  0.2043\n",
      "Prob barkha solves 5 prob:  0.2234\n"
     ]
    }
   ],
   "source": [
    "#Prob each of them solve 5 questions\n",
    "print('Prob gaurav solves 5 prob: ',list_g[5])\n",
    "print('Prob barkha solves 5 prob: ',list_b[5])"
   ]
  },
  {
   "cell_type": "markdown",
   "metadata": {},
   "source": [
    "**Barkha has higher probability of solving 5 problems correctly**"
   ]
  },
  {
   "cell_type": "code",
   "execution_count": 38,
   "metadata": {},
   "outputs": [
    {
     "name": "stdout",
     "output_type": "stream",
     "text": [
      "Prob gaurav solves 4 prob:  0.0892\n",
      "Prob barkha solves 4 prob:  0.1733\n",
      "Prob gaurav solves 6 prob:  0.308\n",
      "Prob barkha solves 6 prob:  0.2088\n"
     ]
    }
   ],
   "source": [
    "#Prob each of them solve 4&6 questions\n",
    "print('Prob gaurav solves 4 prob: ',list_g[4])\n",
    "print('Prob barkha solves 4 prob: ',list_b[4])\n",
    "\n",
    "print('Prob gaurav solves 6 prob: ',list_g[6])\n",
    "print('Prob barkha solves 6 prob: ',list_b[6])"
   ]
  },
  {
   "cell_type": "code",
   "execution_count": 50,
   "metadata": {},
   "outputs": [
    {
     "data": {
      "text/plain": [
       "<matplotlib.legend.Legend at 0x1d27fb50>"
      ]
     },
     "execution_count": 50,
     "metadata": {},
     "output_type": "execute_result"
    },
    {
     "data": {
      "image/png": "[encoded data removed]",
      "text/plain": [
       "<Figure size 432x288 with 1 Axes>"
      ]
     },
     "metadata": {
      "needs_background": "light"
     },
     "output_type": "display_data"
    }
   ],
   "source": [
    "plt.plot([0,1,2,3,4,5,6,7,8],list_g,label='Gaurav')\n",
    "plt.plot([0,1,2,3,4,5,6,7,8],list_b,label='Barkha')\n",
    "plt.figlegend()"
   ]
  },
  {
   "cell_type": "markdown",
   "metadata": {},
   "source": [
    "**Probability of solving more questions increases for Gaurav than Barkha**"
   ]
  },
  {
   "cell_type": "markdown",
   "metadata": {},
   "source": [
    "**Problem Statement 7:**\n",
    "Customers arrive at a rate of 72 per hour to my shop. What is the probability of k\n",
    "customers arriving in 4 minutes? a) 5 customers, b) not more than 3 customers, c)\n",
    "more than 3 customers. Give a pictorial representation of the same to validate your\n",
    "answer."
   ]
  },
  {
   "cell_type": "code",
   "execution_count": 52,
   "metadata": {},
   "outputs": [
    {
     "name": "stdout",
     "output_type": "stream",
     "text": [
      "Arrival rate per Min:  1.2\n"
     ]
    }
   ],
   "source": [
    "arrival_rate_per_min=72/60\n",
    "print('Arrival rate per Min: ',arrival_rate_per_min)"
   ]
  },
  {
   "cell_type": "code",
   "execution_count": 54,
   "metadata": {},
   "outputs": [
    {
     "name": "stdout",
     "output_type": "stream",
     "text": [
      "Poisson Distribution:  [5 6 3 ... 4 3 4]\n"
     ]
    }
   ],
   "source": [
    "#Generate a random poisson distribution of 10k points\n",
    "dist=np.random.poisson(arrival_rate_per_min*4,10000)\n",
    "print('Poisson Distribution: ', dist)"
   ]
  },
  {
   "cell_type": "code",
   "execution_count": 55,
   "metadata": {},
   "outputs": [
    {
     "data": {
      "text/plain": [
       "0.174"
      ]
     },
     "execution_count": 55,
     "metadata": {},
     "output_type": "execute_result"
    }
   ],
   "source": [
    "#Prob of 5 customers in 4 min\n",
    "np.sum(dist==5)/10000"
   ]
  },
  {
   "cell_type": "code",
   "execution_count": 56,
   "metadata": {},
   "outputs": [
    {
     "data": {
      "text/plain": [
       "0.2969"
      ]
     },
     "execution_count": 56,
     "metadata": {},
     "output_type": "execute_result"
    }
   ],
   "source": [
    "#Not more than 3 customers\n",
    "np.sum(dist<=3)/10000"
   ]
  },
  {
   "cell_type": "code",
   "execution_count": 57,
   "metadata": {},
   "outputs": [
    {
     "data": {
      "text/plain": [
       "0.7031"
      ]
     },
     "execution_count": 57,
     "metadata": {},
     "output_type": "execute_result"
    }
   ],
   "source": [
    "#More than 3 customers\n",
    "np.sum(dist>3)/10000"
   ]
  },
  {
   "cell_type": "code",
   "execution_count": 59,
   "metadata": {},
   "outputs": [
    {
     "data": {
      "text/plain": [
       "<AxesSubplot:>"
      ]
     },
     "execution_count": 59,
     "metadata": {},
     "output_type": "execute_result"
    },
    {
     "data": {
      "image/png": "[encoded data removed]",
      "text/plain": [
       "<Figure size 432x288 with 1 Axes>"
      ]
     },
     "metadata": {
      "needs_background": "light"
     },
     "output_type": "display_data"
    }
   ],
   "source": [
    "sns.distplot(dist)"
   ]
  },
  {
   "cell_type": "markdown",
   "metadata": {},
   "source": [
    "**Problem Statement 8:**\n",
    "\n",
    "I work as a data analyst in Aeon Learning Pvt. Ltd. After analyzing data, I make\n",
    "reports, where I have the efficiency of entering 77 words per minute with 6 errors per\n",
    "hour. What is the probability that I will commit 2 errors in a 455-word financial report?\n",
    "What happens when the no. of words increases/decreases (in case of 1000 words,\n",
    "255 words)?\n",
    "How is the λ affected?\n",
    "How does it influence the PMF?\n",
    "Give a pictorial representation of the same to validate your answer."
   ]
  },
  {
   "cell_type": "code",
   "execution_count": 60,
   "metadata": {},
   "outputs": [
    {
     "name": "stdout",
     "output_type": "stream",
     "text": [
      "Errors per min:  0.1\n"
     ]
    }
   ],
   "source": [
    "errors_per_min=6/60\n",
    "print('Errors per min: ',errors_per_min)"
   ]
  },
  {
   "cell_type": "code",
   "execution_count": 67,
   "metadata": {},
   "outputs": [],
   "source": [
    "dist=np.random.poisson(455/77*errors_per_min,10000)"
   ]
  },
  {
   "cell_type": "code",
   "execution_count": 68,
   "metadata": {},
   "outputs": [
    {
     "data": {
      "text/plain": [
       "array([0, 1, 2, ..., 1, 0, 1])"
      ]
     },
     "execution_count": 68,
     "metadata": {},
     "output_type": "execute_result"
    }
   ],
   "source": [
    "dist"
   ]
  },
  {
   "cell_type": "code",
   "execution_count": 69,
   "metadata": {},
   "outputs": [],
   "source": [
    "prob=np.sum(dist==2)/10000"
   ]
  },
  {
   "cell_type": "code",
   "execution_count": 70,
   "metadata": {},
   "outputs": [
    {
     "name": "stdout",
     "output_type": "stream",
     "text": [
      "Probability of having 2 erros for 455-word financial report:  0.0925\n"
     ]
    }
   ],
   "source": [
    "print('Probability of having 2 erros for 455-word financial report: ',prob)"
   ]
  },
  {
   "cell_type": "code",
   "execution_count": 72,
   "metadata": {},
   "outputs": [
    {
     "name": "stdout",
     "output_type": "stream",
     "text": [
      "Probability of having 2 erros for 10000-word financial report:  0.2281\n"
     ]
    }
   ],
   "source": [
    "dist=np.random.poisson(1000/77*errors_per_min,10000)\n",
    "prob=np.sum(dist==2)/10000\n",
    "print('Probability of having 2 erros for 10000-word financial report: ',prob)"
   ]
  },
  {
   "cell_type": "code",
   "execution_count": 73,
   "metadata": {},
   "outputs": [
    {
     "name": "stdout",
     "output_type": "stream",
     "text": [
      "Probability of having 2 erros for 255-word financial report:  0.0392\n"
     ]
    }
   ],
   "source": [
    "dist=np.random.poisson(255/77*errors_per_min,10000)\n",
    "prob=np.sum(dist==2)/10000\n",
    "print('Probability of having 2 erros for 255-word financial report: ',prob)"
   ]
  },
  {
   "cell_type": "code",
   "execution_count": 74,
   "metadata": {
    "scrolled": true
   },
   "outputs": [
    {
     "name": "stdout",
     "output_type": "stream",
     "text": [
      "Probability of having 2 errors for 100-word financial report: 0.0071\n",
      "Probability of having 2 errors for 150-word financial report: 0.0161\n",
      "Probability of having 2 errors for 200-word financial report: 0.0258\n",
      "Probability of having 2 errors for 250-word financial report: 0.0409\n",
      "Probability of having 2 errors for 300-word financial report: 0.0516\n",
      "Probability of having 2 errors for 350-word financial report: 0.0667\n",
      "Probability of having 2 errors for 400-word financial report: 0.0807\n",
      "Probability of having 2 errors for 450-word financial report: 0.1008\n",
      "Probability of having 2 errors for 500-word financial report: 0.1118\n",
      "Probability of having 2 errors for 550-word financial report: 0.1271\n",
      "Probability of having 2 errors for 600-word financial report: 0.14\n",
      "Probability of having 2 errors for 650-word financial report: 0.1563\n",
      "Probability of having 2 errors for 700-word financial report: 0.1604\n",
      "Probability of having 2 errors for 750-word financial report: 0.1737\n",
      "Probability of having 2 errors for 800-word financial report: 0.1921\n",
      "Probability of having 2 errors for 850-word financial report: 0.201\n",
      "Probability of having 2 errors for 900-word financial report: 0.2094\n",
      "Probability of having 2 errors for 950-word financial report: 0.2252\n",
      "Probability of having 2 errors for 1000-word financial report: 0.2276\n",
      "Probability of having 2 errors for 1050-word financial report: 0.243\n",
      "Probability of having 2 errors for 1100-word financial report: 0.2428\n",
      "Probability of having 2 errors for 1150-word financial report: 0.2461\n",
      "Probability of having 2 errors for 1200-word financial report: 0.2596\n",
      "Probability of having 2 errors for 1250-word financial report: 0.252\n",
      "Probability of having 2 errors for 1300-word financial report: 0.2608\n",
      "Probability of having 2 errors for 1350-word financial report: 0.2645\n",
      "Probability of having 2 errors for 1400-word financial report: 0.2683\n",
      "Probability of having 2 errors for 1450-word financial report: 0.2654\n",
      "Probability of having 2 errors for 1500-word financial report: 0.2716\n",
      "Probability of having 2 errors for 1550-word financial report: 0.2763\n",
      "Probability of having 2 errors for 1600-word financial report: 0.276\n",
      "Probability of having 2 errors for 1650-word financial report: 0.2714\n",
      "Probability of having 2 errors for 1700-word financial report: 0.2736\n",
      "Probability of having 2 errors for 1750-word financial report: 0.2638\n",
      "Probability of having 2 errors for 1800-word financial report: 0.2773\n",
      "Probability of having 2 errors for 1850-word financial report: 0.2639\n",
      "Probability of having 2 errors for 1900-word financial report: 0.2672\n",
      "Probability of having 2 errors for 1950-word financial report: 0.2544\n",
      "Probability of having 2 errors for 2000-word financial report: 0.2527\n",
      "Probability of having 2 errors for 2050-word financial report: 0.2491\n",
      "Probability of having 2 errors for 2100-word financial report: 0.2401\n",
      "Probability of having 2 errors for 2150-word financial report: 0.2334\n",
      "Probability of having 2 errors for 2200-word financial report: 0.2334\n",
      "Probability of having 2 errors for 2250-word financial report: 0.2226\n",
      "Probability of having 2 errors for 2300-word financial report: 0.2227\n",
      "Probability of having 2 errors for 2350-word financial report: 0.2223\n",
      "Probability of having 2 errors for 2400-word financial report: 0.2126\n",
      "Probability of having 2 errors for 2450-word financial report: 0.2127\n",
      "Probability of having 2 errors for 2500-word financial report: 0.212\n",
      "Probability of having 2 errors for 2550-word financial report: 0.2013\n",
      "Probability of having 2 errors for 2600-word financial report: 0.1957\n",
      "Probability of having 2 errors for 2650-word financial report: 0.1914\n",
      "Probability of having 2 errors for 2700-word financial report: 0.1846\n",
      "Probability of having 2 errors for 2750-word financial report: 0.1807\n",
      "Probability of having 2 errors for 2800-word financial report: 0.1801\n",
      "Probability of having 2 errors for 2850-word financial report: 0.1677\n",
      "Probability of having 2 errors for 2900-word financial report: 0.166\n",
      "Probability of having 2 errors for 2950-word financial report: 0.1515\n",
      "Probability of having 2 errors for 3000-word financial report: 0.1586\n",
      "Probability of having 2 errors for 3050-word financial report: 0.1447\n",
      "Probability of having 2 errors for 3100-word financial report: 0.148\n",
      "Probability of having 2 errors for 3150-word financial report: 0.1403\n",
      "Probability of having 2 errors for 3200-word financial report: 0.1352\n",
      "Probability of having 2 errors for 3250-word financial report: 0.1348\n",
      "Probability of having 2 errors for 3300-word financial report: 0.1287\n",
      "Probability of having 2 errors for 3350-word financial report: 0.1277\n",
      "Probability of having 2 errors for 3400-word financial report: 0.1154\n",
      "Probability of having 2 errors for 3450-word financial report: 0.1092\n",
      "Probability of having 2 errors for 3500-word financial report: 0.1099\n",
      "Probability of having 2 errors for 3550-word financial report: 0.1028\n",
      "Probability of having 2 errors for 3600-word financial report: 0.0968\n",
      "Probability of having 2 errors for 3650-word financial report: 0.1016\n",
      "Probability of having 2 errors for 3700-word financial report: 0.1003\n",
      "Probability of having 2 errors for 3750-word financial report: 0.0925\n",
      "Probability of having 2 errors for 3800-word financial report: 0.0875\n",
      "Probability of having 2 errors for 3850-word financial report: 0.0809\n",
      "Probability of having 2 errors for 3900-word financial report: 0.0832\n",
      "Probability of having 2 errors for 3950-word financial report: 0.076\n",
      "Probability of having 2 errors for 4000-word financial report: 0.071\n",
      "Probability of having 2 errors for 4050-word financial report: 0.0714\n",
      "Probability of having 2 errors for 4100-word financial report: 0.071\n",
      "Probability of having 2 errors for 4150-word financial report: 0.0615\n",
      "Probability of having 2 errors for 4200-word financial report: 0.0684\n",
      "Probability of having 2 errors for 4250-word financial report: 0.0574\n",
      "Probability of having 2 errors for 4300-word financial report: 0.0565\n",
      "Probability of having 2 errors for 4350-word financial report: 0.0564\n",
      "Probability of having 2 errors for 4400-word financial report: 0.0527\n",
      "Probability of having 2 errors for 4450-word financial report: 0.0479\n",
      "Probability of having 2 errors for 4500-word financial report: 0.0496\n",
      "Probability of having 2 errors for 4550-word financial report: 0.0463\n",
      "Probability of having 2 errors for 4600-word financial report: 0.0462\n",
      "Probability of having 2 errors for 4650-word financial report: 0.0423\n",
      "Probability of having 2 errors for 4700-word financial report: 0.0442\n",
      "Probability of having 2 errors for 4750-word financial report: 0.0432\n",
      "Probability of having 2 errors for 4800-word financial report: 0.0365\n",
      "Probability of having 2 errors for 4850-word financial report: 0.0399\n",
      "Probability of having 2 errors for 4900-word financial report: 0.0365\n",
      "Probability of having 2 errors for 4950-word financial report: 0.0337\n"
     ]
    }
   ],
   "source": [
    "x_axis=[]\n",
    "y_axis=[]\n",
    "for i in range(100,5000,50):\n",
    "    dist=np.random.poisson(i/77*errors_per_min,10000)\n",
    "    prob=np.sum(dist==2)/10000\n",
    "    print('Probability of having 2 errors for {}-word financial report: {}'.format(i,prob))\n",
    "    x_axis.append(i)\n",
    "    y_axis.append(prob)"
   ]
  },
  {
   "cell_type": "code",
   "execution_count": 77,
   "metadata": {},
   "outputs": [
    {
     "data": {
      "text/plain": [
       "[<matplotlib.lines.Line2D at 0x1d6a1280>]"
      ]
     },
     "execution_count": 77,
     "metadata": {},
     "output_type": "execute_result"
    },
    {
     "data": {
      "image/png": "[encoded data removed]",
      "text/plain": [
       "<Figure size 432x288 with 1 Axes>"
      ]
     },
     "metadata": {
      "needs_background": "light"
     },
     "output_type": "display_data"
    }
   ],
   "source": [
    "plt.plot(x_axis,y_axis)"
   ]
  },
  {
   "cell_type": "markdown",
   "metadata": {},
   "source": [
    "**Problem Statement 9 same as problem statement 4**"
   ]
  },
  {
   "cell_type": "markdown",
   "metadata": {},
   "source": [
    "**Problem Statement 10:**\n",
    "\n",
    "Please compute the following:\n",
    "a) P(Z > 1.26), . P(Z < −0.86), P(Z > −1.37), P(−1.25 < Z < 0.37), . P(Z ≤ −4.6)\n",
    "b) Find the value z such that P(Z > z) = 0.05\n",
    "c) Find the value of z such that P(−z < Z < z) = 0.99"
   ]
  },
  {
   "cell_type": "code",
   "execution_count": 79,
   "metadata": {},
   "outputs": [
    {
     "name": "stdout",
     "output_type": "stream",
     "text": [
      "P(Z > 1.26) :  0.10383468112130045\n",
      "P(Z < −0.86): 0.1948945212518084\n",
      "P(Z > −1.37): 0.914656549178033\n",
      "P(−1.25 < Z < 0.37): 0.5386589811336914\n",
      "P(Z ≤ −4.6): 2.1124547024964357e-06\n",
      "value 𝑧 such that 𝑃(𝑍 > 𝑧) = 0.05: 1.6448536269514729\n",
      "value of 𝑧 such that 𝑃(−𝑧 < 𝑍 < 𝑧): 2.3263478740408408\n"
     ]
    }
   ],
   "source": [
    "import scipy.stats as st\n",
    "print(\"P(Z > 1.26) : \",1-(st.norm.cdf(1.26)))\n",
    "print(\"P(Z < −0.86):\",st.norm.cdf(-0.86))\n",
    "print(\"P(Z > −1.37):\",1-(st.norm.cdf(-1.37)))\n",
    "print(\"P(−1.25 < Z < 0.37):\",(st.norm.cdf(0.37)-st.norm.cdf(-1.25)))\n",
    "print(\"P(Z ≤ −4.6):\",1-(st.norm.cdf(4.6)))\n",
    "print(\"value 𝑧 such that 𝑃(𝑍 > 𝑧) = 0.05:\",np.absolute(st.norm.ppf(0.05)))\n",
    "print(\"value of 𝑧 such that 𝑃(−𝑧 < 𝑍 < 𝑧):\",st.norm.ppf(0.99))"
   ]
  },
  {
   "cell_type": "markdown",
   "metadata": {},
   "source": [
    "**Problem Statement 11:**\n",
    "\n",
    "The current flow in a copper wire follow a normal distribution with a mean of 10 mA\n",
    "and a variance of 4 (mA)2.\n",
    "What is the probability that a current measurement will exceed 13 mA? What is the\n",
    "probability that a current measurement is between 9 and 11mA? Determine the\n",
    "current measurement which has a probability of 0.98."
   ]
  },
  {
   "cell_type": "code",
   "execution_count": 81,
   "metadata": {},
   "outputs": [
    {
     "name": "stdout",
     "output_type": "stream",
     "text": [
      "Mean:  10\n",
      "Std Dev:  2.0\n"
     ]
    }
   ],
   "source": [
    "import math\n",
    "mean=10\n",
    "std_dev=math.sqrt(4)\n",
    "print('Mean: ',mean)\n",
    "print('Std Dev: ',std_dev)"
   ]
  },
  {
   "cell_type": "code",
   "execution_count": 83,
   "metadata": {},
   "outputs": [
    {
     "name": "stdout",
     "output_type": "stream",
     "text": [
      "Probability that current measurement will exceed 13mA:  0.06680720126885809\n"
     ]
    }
   ],
   "source": [
    "#Probability that current measurement will exceed 13mA\n",
    "temp_val=st.norm.cdf(x=13,loc=mean,scale=std_dev)\n",
    "prob_gt_13=1-temp_val\n",
    "print('Probability that current measurement will exceed 13mA: ',prob_gt_13)"
   ]
  },
  {
   "cell_type": "code",
   "execution_count": 84,
   "metadata": {},
   "outputs": [
    {
     "name": "stdout",
     "output_type": "stream",
     "text": [
      "Probability that current measurement b/w 9-11mA 0.38292492254802624\n"
     ]
    }
   ],
   "source": [
    "#probability that current measurement b/w 9-11mA\n",
    "temp_val=st.norm.cdf(x=11,loc=mean,scale=std_dev) - st.norm.cdf(x=9,loc=mean,scale=std_dev)\n",
    "print('Probability that current measurement b/w 9-11mA',temp_val)"
   ]
  },
  {
   "cell_type": "code",
   "execution_count": 85,
   "metadata": {},
   "outputs": [
    {
     "name": "stdout",
     "output_type": "stream",
     "text": [
      "14.107497821263646\n"
     ]
    }
   ],
   "source": [
    "#Need to perform inverse of cdf that is ppf\n",
    "print(st.norm.ppf(q=0.98,loc=mean,scale=std_dev))"
   ]
  },
  {
   "cell_type": "markdown",
   "metadata": {},
   "source": [
    "**Problem Statement 12:**\n",
    "\n",
    "The shaft in a piston has its diameter normally distributed with a mean of 0.2508 inch\n",
    "and a standard deviation of 0.0005 inch. The specifications of the shaft are 0.2500 ∓\n",
    "0.0015 inch. What proportion of shafts are in sync with the specifications? If the\n",
    "process is centered so that the mean is equal to the target value of 0.2500, what\n",
    "proportion of shafts conform to the new specifications? What is your conclusion from\n",
    "this experiment?"
   ]
  },
  {
   "cell_type": "code",
   "execution_count": 87,
   "metadata": {},
   "outputs": [
    {
     "name": "stdout",
     "output_type": "stream",
     "text": [
      "0.91924122831152\n"
     ]
    }
   ],
   "source": [
    "mean=0.2508\n",
    "std_dev=0.0005\n",
    "spec1=0.2500-0.0015\n",
    "spec2=0.2500+0.0015\n",
    "print(st.norm.cdf(x=spec2,loc=mean,scale=std_dev)-st.norm.cdf(x=spec1,loc=mean,scale=std_dev))"
   ]
  },
  {
   "cell_type": "code",
   "execution_count": 88,
   "metadata": {},
   "outputs": [
    {
     "name": "stdout",
     "output_type": "stream",
     "text": [
      "0.9973002039367398\n"
     ]
    }
   ],
   "source": [
    "tar_mean=0.2500\n",
    "print(st.norm.cdf(x=spec2,loc=tar_mean,scale=std_dev)-st.norm.cdf(x=spec1,loc=tar_mean,scale=std_dev))"
   ]
  },
  {
   "cell_type": "markdown",
   "metadata": {},
   "source": [
    "**Mean of piston diameter size 0.2500 align better with shaft**"
   ]
  },
  {
   "cell_type": "code",
   "execution_count": null,
   "metadata": {},
   "outputs": [],
   "source": []
  }
 ],
 "metadata": {
  "kernelspec": {
   "display_name": "Python 3",
   "language": "python",
   "name": "python3"
  },
  "language_info": {
   "codemirror_mode": {
    "name": "ipython",
    "version": 3
   },
   "file_extension": ".py",
   "mimetype": "text/x-python",
   "name": "python",
   "nbconvert_exporter": "python",
   "pygments_lexer": "ipython3",
   "version": "3.8.5"
  }
 },
 "nbformat": 4,
 "nbformat_minor": 4
}
