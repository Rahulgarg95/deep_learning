{
 "cells": [
  {
   "cell_type": "code",
   "execution_count": 44,
   "metadata": {},
   "outputs": [],
   "source": [
    "import numpy as np\n",
    "import pandas as pd\n",
    "import matplotlib.pyplot as plt\n",
    "import seaborn as sns\n",
    "from sklearn.model_selection import train_test_split,RandomizedSearchCV,GridSearchCV\n",
    "from sklearn.preprocessing import StandardScaler\n",
    "from sklearn.ensemble import RandomForestRegressor\n",
    "from sklearn.tree import DecisionTreeRegressor, export_graphviz\n",
    "from sklearn import tree\n",
    "from sklearn.metrics import accuracy_score, confusion_matrix, roc_curve, roc_auc_score\n",
    "from sklearn import datasets"
   ]
  },
  {
   "cell_type": "code",
   "execution_count": 3,
   "metadata": {},
   "outputs": [],
   "source": [
    "boston=datasets.load_boston()"
   ]
  },
  {
   "cell_type": "code",
   "execution_count": 4,
   "metadata": {},
   "outputs": [],
   "source": [
    "#Loading all features as a dataframe\n",
    "features=pd.DataFrame(boston.data,columns=boston.feature_names)"
   ]
  },
  {
   "cell_type": "code",
   "execution_count": 5,
   "metadata": {},
   "outputs": [
    {
     "data": {
      "text/html": [
       "<div>\n",
       "<style scoped>\n",
       "    .dataframe tbody tr th:only-of-type {\n",
       "        vertical-align: middle;\n",
       "    }\n",
       "\n",
       "    .dataframe tbody tr th {\n",
       "        vertical-align: top;\n",
       "    }\n",
       "\n",
       "    .dataframe thead th {\n",
       "        text-align: right;\n",
       "    }\n",
       "</style>\n",
       "<table border=\"1\" class=\"dataframe\">\n",
       "  <thead>\n",
       "    <tr style=\"text-align: right;\">\n",
       "      <th></th>\n",
       "      <th>CRIM</th>\n",
       "      <th>ZN</th>\n",
       "      <th>INDUS</th>\n",
       "      <th>CHAS</th>\n",
       "      <th>NOX</th>\n",
       "      <th>RM</th>\n",
       "      <th>AGE</th>\n",
       "      <th>DIS</th>\n",
       "      <th>RAD</th>\n",
       "      <th>TAX</th>\n",
       "      <th>PTRATIO</th>\n",
       "      <th>B</th>\n",
       "      <th>LSTAT</th>\n",
       "    </tr>\n",
       "  </thead>\n",
       "  <tbody>\n",
       "    <tr>\n",
       "      <th>0</th>\n",
       "      <td>0.00632</td>\n",
       "      <td>18.0</td>\n",
       "      <td>2.31</td>\n",
       "      <td>0.0</td>\n",
       "      <td>0.538</td>\n",
       "      <td>6.575</td>\n",
       "      <td>65.2</td>\n",
       "      <td>4.0900</td>\n",
       "      <td>1.0</td>\n",
       "      <td>296.0</td>\n",
       "      <td>15.3</td>\n",
       "      <td>396.90</td>\n",
       "      <td>4.98</td>\n",
       "    </tr>\n",
       "    <tr>\n",
       "      <th>1</th>\n",
       "      <td>0.02731</td>\n",
       "      <td>0.0</td>\n",
       "      <td>7.07</td>\n",
       "      <td>0.0</td>\n",
       "      <td>0.469</td>\n",
       "      <td>6.421</td>\n",
       "      <td>78.9</td>\n",
       "      <td>4.9671</td>\n",
       "      <td>2.0</td>\n",
       "      <td>242.0</td>\n",
       "      <td>17.8</td>\n",
       "      <td>396.90</td>\n",
       "      <td>9.14</td>\n",
       "    </tr>\n",
       "    <tr>\n",
       "      <th>2</th>\n",
       "      <td>0.02729</td>\n",
       "      <td>0.0</td>\n",
       "      <td>7.07</td>\n",
       "      <td>0.0</td>\n",
       "      <td>0.469</td>\n",
       "      <td>7.185</td>\n",
       "      <td>61.1</td>\n",
       "      <td>4.9671</td>\n",
       "      <td>2.0</td>\n",
       "      <td>242.0</td>\n",
       "      <td>17.8</td>\n",
       "      <td>392.83</td>\n",
       "      <td>4.03</td>\n",
       "    </tr>\n",
       "    <tr>\n",
       "      <th>3</th>\n",
       "      <td>0.03237</td>\n",
       "      <td>0.0</td>\n",
       "      <td>2.18</td>\n",
       "      <td>0.0</td>\n",
       "      <td>0.458</td>\n",
       "      <td>6.998</td>\n",
       "      <td>45.8</td>\n",
       "      <td>6.0622</td>\n",
       "      <td>3.0</td>\n",
       "      <td>222.0</td>\n",
       "      <td>18.7</td>\n",
       "      <td>394.63</td>\n",
       "      <td>2.94</td>\n",
       "    </tr>\n",
       "    <tr>\n",
       "      <th>4</th>\n",
       "      <td>0.06905</td>\n",
       "      <td>0.0</td>\n",
       "      <td>2.18</td>\n",
       "      <td>0.0</td>\n",
       "      <td>0.458</td>\n",
       "      <td>7.147</td>\n",
       "      <td>54.2</td>\n",
       "      <td>6.0622</td>\n",
       "      <td>3.0</td>\n",
       "      <td>222.0</td>\n",
       "      <td>18.7</td>\n",
       "      <td>396.90</td>\n",
       "      <td>5.33</td>\n",
       "    </tr>\n",
       "  </tbody>\n",
       "</table>\n",
       "</div>"
      ],
      "text/plain": [
       "      CRIM    ZN  INDUS  CHAS    NOX     RM   AGE     DIS  RAD    TAX  \\\n",
       "0  0.00632  18.0   2.31   0.0  0.538  6.575  65.2  4.0900  1.0  296.0   \n",
       "1  0.02731   0.0   7.07   0.0  0.469  6.421  78.9  4.9671  2.0  242.0   \n",
       "2  0.02729   0.0   7.07   0.0  0.469  7.185  61.1  4.9671  2.0  242.0   \n",
       "3  0.03237   0.0   2.18   0.0  0.458  6.998  45.8  6.0622  3.0  222.0   \n",
       "4  0.06905   0.0   2.18   0.0  0.458  7.147  54.2  6.0622  3.0  222.0   \n",
       "\n",
       "   PTRATIO       B  LSTAT  \n",
       "0     15.3  396.90   4.98  \n",
       "1     17.8  396.90   9.14  \n",
       "2     17.8  392.83   4.03  \n",
       "3     18.7  394.63   2.94  \n",
       "4     18.7  396.90   5.33  "
      ]
     },
     "execution_count": 5,
     "metadata": {},
     "output_type": "execute_result"
    }
   ],
   "source": [
    "features.head()"
   ]
  },
  {
   "cell_type": "code",
   "execution_count": 6,
   "metadata": {},
   "outputs": [
    {
     "data": {
      "text/plain": [
       "(506, 13)"
      ]
     },
     "execution_count": 6,
     "metadata": {},
     "output_type": "execute_result"
    }
   ],
   "source": [
    "#No of rows and features in dataframe\n",
    "features.shape"
   ]
  },
  {
   "cell_type": "code",
   "execution_count": 7,
   "metadata": {},
   "outputs": [],
   "source": [
    "#Loading the feature to be predicted\n",
    "targets=boston.target"
   ]
  },
  {
   "cell_type": "code",
   "execution_count": 8,
   "metadata": {
    "scrolled": true
   },
   "outputs": [
    {
     "data": {
      "text/plain": [
       "array([24. , 21.6, 34.7, 33.4, 36.2])"
      ]
     },
     "execution_count": 8,
     "metadata": {},
     "output_type": "execute_result"
    }
   ],
   "source": [
    "targets[:5]"
   ]
  },
  {
   "cell_type": "code",
   "execution_count": 9,
   "metadata": {},
   "outputs": [
    {
     "data": {
      "text/plain": [
       "506"
      ]
     },
     "execution_count": 9,
     "metadata": {},
     "output_type": "execute_result"
    }
   ],
   "source": [
    "#No of target values\n",
    "len(targets)"
   ]
  },
  {
   "cell_type": "code",
   "execution_count": 10,
   "metadata": {},
   "outputs": [
    {
     "name": "stdout",
     "output_type": "stream",
     "text": [
      "<class 'pandas.core.frame.DataFrame'>\n",
      "RangeIndex: 506 entries, 0 to 505\n",
      "Data columns (total 13 columns):\n",
      " #   Column   Non-Null Count  Dtype  \n",
      "---  ------   --------------  -----  \n",
      " 0   CRIM     506 non-null    float64\n",
      " 1   ZN       506 non-null    float64\n",
      " 2   INDUS    506 non-null    float64\n",
      " 3   CHAS     506 non-null    float64\n",
      " 4   NOX      506 non-null    float64\n",
      " 5   RM       506 non-null    float64\n",
      " 6   AGE      506 non-null    float64\n",
      " 7   DIS      506 non-null    float64\n",
      " 8   RAD      506 non-null    float64\n",
      " 9   TAX      506 non-null    float64\n",
      " 10  PTRATIO  506 non-null    float64\n",
      " 11  B        506 non-null    float64\n",
      " 12  LSTAT    506 non-null    float64\n",
      "dtypes: float64(13)\n",
      "memory usage: 51.5 KB\n"
     ]
    }
   ],
   "source": [
    "features.info()"
   ]
  },
  {
   "cell_type": "code",
   "execution_count": 11,
   "metadata": {},
   "outputs": [],
   "source": [
    "#No Null Values are present in the data"
   ]
  },
  {
   "cell_type": "code",
   "execution_count": 12,
   "metadata": {},
   "outputs": [
    {
     "data": {
      "text/html": [
       "<div>\n",
       "<style scoped>\n",
       "    .dataframe tbody tr th:only-of-type {\n",
       "        vertical-align: middle;\n",
       "    }\n",
       "\n",
       "    .dataframe tbody tr th {\n",
       "        vertical-align: top;\n",
       "    }\n",
       "\n",
       "    .dataframe thead th {\n",
       "        text-align: right;\n",
       "    }\n",
       "</style>\n",
       "<table border=\"1\" class=\"dataframe\">\n",
       "  <thead>\n",
       "    <tr style=\"text-align: right;\">\n",
       "      <th></th>\n",
       "      <th>CRIM</th>\n",
       "      <th>ZN</th>\n",
       "      <th>INDUS</th>\n",
       "      <th>CHAS</th>\n",
       "      <th>NOX</th>\n",
       "      <th>RM</th>\n",
       "      <th>AGE</th>\n",
       "      <th>DIS</th>\n",
       "      <th>RAD</th>\n",
       "      <th>TAX</th>\n",
       "      <th>PTRATIO</th>\n",
       "      <th>B</th>\n",
       "      <th>LSTAT</th>\n",
       "    </tr>\n",
       "  </thead>\n",
       "  <tbody>\n",
       "    <tr>\n",
       "      <th>count</th>\n",
       "      <td>506.000000</td>\n",
       "      <td>506.000000</td>\n",
       "      <td>506.000000</td>\n",
       "      <td>506.000000</td>\n",
       "      <td>506.000000</td>\n",
       "      <td>506.000000</td>\n",
       "      <td>506.000000</td>\n",
       "      <td>506.000000</td>\n",
       "      <td>506.000000</td>\n",
       "      <td>506.000000</td>\n",
       "      <td>506.000000</td>\n",
       "      <td>506.000000</td>\n",
       "      <td>506.000000</td>\n",
       "    </tr>\n",
       "    <tr>\n",
       "      <th>mean</th>\n",
       "      <td>3.613524</td>\n",
       "      <td>11.363636</td>\n",
       "      <td>11.136779</td>\n",
       "      <td>0.069170</td>\n",
       "      <td>0.554695</td>\n",
       "      <td>6.284634</td>\n",
       "      <td>68.574901</td>\n",
       "      <td>3.795043</td>\n",
       "      <td>9.549407</td>\n",
       "      <td>408.237154</td>\n",
       "      <td>18.455534</td>\n",
       "      <td>356.674032</td>\n",
       "      <td>12.653063</td>\n",
       "    </tr>\n",
       "    <tr>\n",
       "      <th>std</th>\n",
       "      <td>8.601545</td>\n",
       "      <td>23.322453</td>\n",
       "      <td>6.860353</td>\n",
       "      <td>0.253994</td>\n",
       "      <td>0.115878</td>\n",
       "      <td>0.702617</td>\n",
       "      <td>28.148861</td>\n",
       "      <td>2.105710</td>\n",
       "      <td>8.707259</td>\n",
       "      <td>168.537116</td>\n",
       "      <td>2.164946</td>\n",
       "      <td>91.294864</td>\n",
       "      <td>7.141062</td>\n",
       "    </tr>\n",
       "    <tr>\n",
       "      <th>min</th>\n",
       "      <td>0.006320</td>\n",
       "      <td>0.000000</td>\n",
       "      <td>0.460000</td>\n",
       "      <td>0.000000</td>\n",
       "      <td>0.385000</td>\n",
       "      <td>3.561000</td>\n",
       "      <td>2.900000</td>\n",
       "      <td>1.129600</td>\n",
       "      <td>1.000000</td>\n",
       "      <td>187.000000</td>\n",
       "      <td>12.600000</td>\n",
       "      <td>0.320000</td>\n",
       "      <td>1.730000</td>\n",
       "    </tr>\n",
       "    <tr>\n",
       "      <th>25%</th>\n",
       "      <td>0.082045</td>\n",
       "      <td>0.000000</td>\n",
       "      <td>5.190000</td>\n",
       "      <td>0.000000</td>\n",
       "      <td>0.449000</td>\n",
       "      <td>5.885500</td>\n",
       "      <td>45.025000</td>\n",
       "      <td>2.100175</td>\n",
       "      <td>4.000000</td>\n",
       "      <td>279.000000</td>\n",
       "      <td>17.400000</td>\n",
       "      <td>375.377500</td>\n",
       "      <td>6.950000</td>\n",
       "    </tr>\n",
       "    <tr>\n",
       "      <th>50%</th>\n",
       "      <td>0.256510</td>\n",
       "      <td>0.000000</td>\n",
       "      <td>9.690000</td>\n",
       "      <td>0.000000</td>\n",
       "      <td>0.538000</td>\n",
       "      <td>6.208500</td>\n",
       "      <td>77.500000</td>\n",
       "      <td>3.207450</td>\n",
       "      <td>5.000000</td>\n",
       "      <td>330.000000</td>\n",
       "      <td>19.050000</td>\n",
       "      <td>391.440000</td>\n",
       "      <td>11.360000</td>\n",
       "    </tr>\n",
       "    <tr>\n",
       "      <th>75%</th>\n",
       "      <td>3.677083</td>\n",
       "      <td>12.500000</td>\n",
       "      <td>18.100000</td>\n",
       "      <td>0.000000</td>\n",
       "      <td>0.624000</td>\n",
       "      <td>6.623500</td>\n",
       "      <td>94.075000</td>\n",
       "      <td>5.188425</td>\n",
       "      <td>24.000000</td>\n",
       "      <td>666.000000</td>\n",
       "      <td>20.200000</td>\n",
       "      <td>396.225000</td>\n",
       "      <td>16.955000</td>\n",
       "    </tr>\n",
       "    <tr>\n",
       "      <th>max</th>\n",
       "      <td>88.976200</td>\n",
       "      <td>100.000000</td>\n",
       "      <td>27.740000</td>\n",
       "      <td>1.000000</td>\n",
       "      <td>0.871000</td>\n",
       "      <td>8.780000</td>\n",
       "      <td>100.000000</td>\n",
       "      <td>12.126500</td>\n",
       "      <td>24.000000</td>\n",
       "      <td>711.000000</td>\n",
       "      <td>22.000000</td>\n",
       "      <td>396.900000</td>\n",
       "      <td>37.970000</td>\n",
       "    </tr>\n",
       "  </tbody>\n",
       "</table>\n",
       "</div>"
      ],
      "text/plain": [
       "             CRIM          ZN       INDUS        CHAS         NOX          RM  \\\n",
       "count  506.000000  506.000000  506.000000  506.000000  506.000000  506.000000   \n",
       "mean     3.613524   11.363636   11.136779    0.069170    0.554695    6.284634   \n",
       "std      8.601545   23.322453    6.860353    0.253994    0.115878    0.702617   \n",
       "min      0.006320    0.000000    0.460000    0.000000    0.385000    3.561000   \n",
       "25%      0.082045    0.000000    5.190000    0.000000    0.449000    5.885500   \n",
       "50%      0.256510    0.000000    9.690000    0.000000    0.538000    6.208500   \n",
       "75%      3.677083   12.500000   18.100000    0.000000    0.624000    6.623500   \n",
       "max     88.976200  100.000000   27.740000    1.000000    0.871000    8.780000   \n",
       "\n",
       "              AGE         DIS         RAD         TAX     PTRATIO           B  \\\n",
       "count  506.000000  506.000000  506.000000  506.000000  506.000000  506.000000   \n",
       "mean    68.574901    3.795043    9.549407  408.237154   18.455534  356.674032   \n",
       "std     28.148861    2.105710    8.707259  168.537116    2.164946   91.294864   \n",
       "min      2.900000    1.129600    1.000000  187.000000   12.600000    0.320000   \n",
       "25%     45.025000    2.100175    4.000000  279.000000   17.400000  375.377500   \n",
       "50%     77.500000    3.207450    5.000000  330.000000   19.050000  391.440000   \n",
       "75%     94.075000    5.188425   24.000000  666.000000   20.200000  396.225000   \n",
       "max    100.000000   12.126500   24.000000  711.000000   22.000000  396.900000   \n",
       "\n",
       "            LSTAT  \n",
       "count  506.000000  \n",
       "mean    12.653063  \n",
       "std      7.141062  \n",
       "min      1.730000  \n",
       "25%      6.950000  \n",
       "50%     11.360000  \n",
       "75%     16.955000  \n",
       "max     37.970000  "
      ]
     },
     "execution_count": 12,
     "metadata": {},
     "output_type": "execute_result"
    }
   ],
   "source": [
    "features.describe()"
   ]
  },
  {
   "cell_type": "markdown",
   "metadata": {},
   "source": [
    "**It seems from above table that for features like CRIM,ZN max values deviate highly from mean, hence seems like outliers in such features**"
   ]
  },
  {
   "cell_type": "code",
   "execution_count": 13,
   "metadata": {},
   "outputs": [
    {
     "data": {
      "text/plain": [
       "<AxesSubplot:>"
      ]
     },
     "execution_count": 13,
     "metadata": {},
     "output_type": "execute_result"
    },
    {
     "data": {
      "image/png": "[encoded data removed]",
      "text/plain": [
       "<Figure size 1080x720 with 1 Axes>"
      ]
     },
     "metadata": {
      "needs_background": "light"
     },
     "output_type": "display_data"
    }
   ],
   "source": [
    "#All numerical values are present\n",
    "\n",
    "#Checking for outliers using box plots\n",
    "\n",
    "fig, ax = plt.subplots(figsize=(15,10))\n",
    "sns.boxplot(data=features, width= 0.5,ax=ax, fliersize=3)"
   ]
  },
  {
   "cell_type": "code",
   "execution_count": 14,
   "metadata": {},
   "outputs": [],
   "source": [
    "#Removing outliers using percentiles\n",
    "q=features['CRIM'].quantile(0.98)\n",
    "data_cleaned=features[features['CRIM']<q]\n",
    "\n",
    "q=data_cleaned['ZN'].quantile(0.98)\n",
    "data_cleaned=data_cleaned[data_cleaned['ZN']<q]"
   ]
  },
  {
   "cell_type": "code",
   "execution_count": 15,
   "metadata": {},
   "outputs": [
    {
     "data": {
      "text/html": [
       "<div>\n",
       "<style scoped>\n",
       "    .dataframe tbody tr th:only-of-type {\n",
       "        vertical-align: middle;\n",
       "    }\n",
       "\n",
       "    .dataframe tbody tr th {\n",
       "        vertical-align: top;\n",
       "    }\n",
       "\n",
       "    .dataframe thead th {\n",
       "        text-align: right;\n",
       "    }\n",
       "</style>\n",
       "<table border=\"1\" class=\"dataframe\">\n",
       "  <thead>\n",
       "    <tr style=\"text-align: right;\">\n",
       "      <th></th>\n",
       "      <th>CRIM</th>\n",
       "      <th>ZN</th>\n",
       "      <th>INDUS</th>\n",
       "      <th>CHAS</th>\n",
       "      <th>NOX</th>\n",
       "      <th>RM</th>\n",
       "      <th>AGE</th>\n",
       "      <th>DIS</th>\n",
       "      <th>RAD</th>\n",
       "      <th>TAX</th>\n",
       "      <th>PTRATIO</th>\n",
       "      <th>B</th>\n",
       "      <th>LSTAT</th>\n",
       "    </tr>\n",
       "  </thead>\n",
       "  <tbody>\n",
       "    <tr>\n",
       "      <th>count</th>\n",
       "      <td>485.000000</td>\n",
       "      <td>485.000000</td>\n",
       "      <td>485.000000</td>\n",
       "      <td>485.000000</td>\n",
       "      <td>485.000000</td>\n",
       "      <td>485.000000</td>\n",
       "      <td>485.000000</td>\n",
       "      <td>485.00000</td>\n",
       "      <td>485.000000</td>\n",
       "      <td>485.000000</td>\n",
       "      <td>485.000000</td>\n",
       "      <td>485.000000</td>\n",
       "      <td>485.000000</td>\n",
       "    </tr>\n",
       "    <tr>\n",
       "      <th>mean</th>\n",
       "      <td>2.688157</td>\n",
       "      <td>9.938144</td>\n",
       "      <td>11.165608</td>\n",
       "      <td>0.070103</td>\n",
       "      <td>0.555158</td>\n",
       "      <td>6.276812</td>\n",
       "      <td>68.827216</td>\n",
       "      <td>3.77025</td>\n",
       "      <td>9.348454</td>\n",
       "      <td>405.348454</td>\n",
       "      <td>18.470309</td>\n",
       "      <td>359.160948</td>\n",
       "      <td>12.588639</td>\n",
       "    </tr>\n",
       "    <tr>\n",
       "      <th>std</th>\n",
       "      <td>4.785798</td>\n",
       "      <td>20.606864</td>\n",
       "      <td>6.803960</td>\n",
       "      <td>0.255584</td>\n",
       "      <td>0.114986</td>\n",
       "      <td>0.687136</td>\n",
       "      <td>27.798743</td>\n",
       "      <td>2.04031</td>\n",
       "      <td>8.572987</td>\n",
       "      <td>166.079241</td>\n",
       "      <td>2.154734</td>\n",
       "      <td>87.270817</td>\n",
       "      <td>6.931560</td>\n",
       "    </tr>\n",
       "    <tr>\n",
       "      <th>min</th>\n",
       "      <td>0.006320</td>\n",
       "      <td>0.000000</td>\n",
       "      <td>0.460000</td>\n",
       "      <td>0.000000</td>\n",
       "      <td>0.385000</td>\n",
       "      <td>3.561000</td>\n",
       "      <td>2.900000</td>\n",
       "      <td>1.12960</td>\n",
       "      <td>1.000000</td>\n",
       "      <td>188.000000</td>\n",
       "      <td>12.600000</td>\n",
       "      <td>0.320000</td>\n",
       "      <td>1.730000</td>\n",
       "    </tr>\n",
       "    <tr>\n",
       "      <th>25%</th>\n",
       "      <td>0.083700</td>\n",
       "      <td>0.000000</td>\n",
       "      <td>5.190000</td>\n",
       "      <td>0.000000</td>\n",
       "      <td>0.453000</td>\n",
       "      <td>5.888000</td>\n",
       "      <td>45.800000</td>\n",
       "      <td>2.11210</td>\n",
       "      <td>4.000000</td>\n",
       "      <td>280.000000</td>\n",
       "      <td>17.400000</td>\n",
       "      <td>375.870000</td>\n",
       "      <td>7.180000</td>\n",
       "    </tr>\n",
       "    <tr>\n",
       "      <th>50%</th>\n",
       "      <td>0.253870</td>\n",
       "      <td>0.000000</td>\n",
       "      <td>9.690000</td>\n",
       "      <td>0.000000</td>\n",
       "      <td>0.538000</td>\n",
       "      <td>6.208000</td>\n",
       "      <td>77.300000</td>\n",
       "      <td>3.21570</td>\n",
       "      <td>5.000000</td>\n",
       "      <td>330.000000</td>\n",
       "      <td>19.000000</td>\n",
       "      <td>391.500000</td>\n",
       "      <td>11.380000</td>\n",
       "    </tr>\n",
       "    <tr>\n",
       "      <th>75%</th>\n",
       "      <td>3.163600</td>\n",
       "      <td>12.500000</td>\n",
       "      <td>18.100000</td>\n",
       "      <td>0.000000</td>\n",
       "      <td>0.624000</td>\n",
       "      <td>6.595000</td>\n",
       "      <td>93.900000</td>\n",
       "      <td>5.11670</td>\n",
       "      <td>8.000000</td>\n",
       "      <td>666.000000</td>\n",
       "      <td>20.200000</td>\n",
       "      <td>396.240000</td>\n",
       "      <td>16.650000</td>\n",
       "    </tr>\n",
       "    <tr>\n",
       "      <th>max</th>\n",
       "      <td>24.801700</td>\n",
       "      <td>85.000000</td>\n",
       "      <td>27.740000</td>\n",
       "      <td>1.000000</td>\n",
       "      <td>0.871000</td>\n",
       "      <td>8.780000</td>\n",
       "      <td>100.000000</td>\n",
       "      <td>10.71030</td>\n",
       "      <td>24.000000</td>\n",
       "      <td>711.000000</td>\n",
       "      <td>22.000000</td>\n",
       "      <td>396.900000</td>\n",
       "      <td>37.970000</td>\n",
       "    </tr>\n",
       "  </tbody>\n",
       "</table>\n",
       "</div>"
      ],
      "text/plain": [
       "             CRIM          ZN       INDUS        CHAS         NOX          RM  \\\n",
       "count  485.000000  485.000000  485.000000  485.000000  485.000000  485.000000   \n",
       "mean     2.688157    9.938144   11.165608    0.070103    0.555158    6.276812   \n",
       "std      4.785798   20.606864    6.803960    0.255584    0.114986    0.687136   \n",
       "min      0.006320    0.000000    0.460000    0.000000    0.385000    3.561000   \n",
       "25%      0.083700    0.000000    5.190000    0.000000    0.453000    5.888000   \n",
       "50%      0.253870    0.000000    9.690000    0.000000    0.538000    6.208000   \n",
       "75%      3.163600   12.500000   18.100000    0.000000    0.624000    6.595000   \n",
       "max     24.801700   85.000000   27.740000    1.000000    0.871000    8.780000   \n",
       "\n",
       "              AGE        DIS         RAD         TAX     PTRATIO           B  \\\n",
       "count  485.000000  485.00000  485.000000  485.000000  485.000000  485.000000   \n",
       "mean    68.827216    3.77025    9.348454  405.348454   18.470309  359.160948   \n",
       "std     27.798743    2.04031    8.572987  166.079241    2.154734   87.270817   \n",
       "min      2.900000    1.12960    1.000000  188.000000   12.600000    0.320000   \n",
       "25%     45.800000    2.11210    4.000000  280.000000   17.400000  375.870000   \n",
       "50%     77.300000    3.21570    5.000000  330.000000   19.000000  391.500000   \n",
       "75%     93.900000    5.11670    8.000000  666.000000   20.200000  396.240000   \n",
       "max    100.000000   10.71030   24.000000  711.000000   22.000000  396.900000   \n",
       "\n",
       "            LSTAT  \n",
       "count  485.000000  \n",
       "mean    12.588639  \n",
       "std      6.931560  \n",
       "min      1.730000  \n",
       "25%      7.180000  \n",
       "50%     11.380000  \n",
       "75%     16.650000  \n",
       "max     37.970000  "
      ]
     },
     "execution_count": 15,
     "metadata": {},
     "output_type": "execute_result"
    }
   ],
   "source": [
    "data_cleaned.describe()"
   ]
  },
  {
   "cell_type": "code",
   "execution_count": 16,
   "metadata": {},
   "outputs": [
    {
     "data": {
      "text/plain": [
       "<AxesSubplot:>"
      ]
     },
     "execution_count": 16,
     "metadata": {},
     "output_type": "execute_result"
    },
    {
     "data": {
      "image/png": "[encoded data removed]",
      "text/plain": [
       "<Figure size 1080x720 with 1 Axes>"
      ]
     },
     "metadata": {
      "needs_background": "light"
     },
     "output_type": "display_data"
    }
   ],
   "source": [
    "#Checking for outliers using box plots\n",
    "\n",
    "fig, ax = plt.subplots(figsize=(15,10))\n",
    "sns.boxplot(data=data_cleaned, width= 0.5,ax=ax, fliersize=3)"
   ]
  },
  {
   "cell_type": "code",
   "execution_count": 17,
   "metadata": {},
   "outputs": [],
   "source": [
    "#Scaling the features\n",
    "scaler =StandardScaler()\n",
    "X_scaled = scaler.fit_transform(features)"
   ]
  },
  {
   "cell_type": "code",
   "execution_count": 21,
   "metadata": {},
   "outputs": [],
   "source": [
    "x_train,x_test,y_train,y_test = train_test_split(X_scaled,targets,test_size = 0.30, random_state= 355)"
   ]
  },
  {
   "cell_type": "code",
   "execution_count": 22,
   "metadata": {},
   "outputs": [
    {
     "data": {
      "text/plain": [
       "(354, 13)"
      ]
     },
     "execution_count": 22,
     "metadata": {},
     "output_type": "execute_result"
    }
   ],
   "source": [
    "x_train.shape"
   ]
  },
  {
   "cell_type": "code",
   "execution_count": 23,
   "metadata": {},
   "outputs": [
    {
     "data": {
      "text/plain": [
       "(152, 13)"
      ]
     },
     "execution_count": 23,
     "metadata": {},
     "output_type": "execute_result"
    }
   ],
   "source": [
    "x_test.shape"
   ]
  },
  {
   "cell_type": "code",
   "execution_count": 24,
   "metadata": {},
   "outputs": [
    {
     "data": {
      "text/plain": [
       "(354,)"
      ]
     },
     "execution_count": 24,
     "metadata": {},
     "output_type": "execute_result"
    }
   ],
   "source": [
    "y_train.shape"
   ]
  },
  {
   "cell_type": "code",
   "execution_count": 25,
   "metadata": {},
   "outputs": [
    {
     "data": {
      "text/plain": [
       "(152,)"
      ]
     },
     "execution_count": 25,
     "metadata": {},
     "output_type": "execute_result"
    }
   ],
   "source": [
    "y_test.shape"
   ]
  },
  {
   "cell_type": "code",
   "execution_count": 31,
   "metadata": {},
   "outputs": [
    {
     "data": {
      "text/plain": [
       "DecisionTreeRegressor()"
      ]
     },
     "execution_count": 31,
     "metadata": {},
     "output_type": "execute_result"
    }
   ],
   "source": [
    "#Lets check the model accuracy using decision trees\n",
    "clf = DecisionTreeRegressor(min_samples_split= 2)\n",
    "clf.fit(x_train,y_train)"
   ]
  },
  {
   "cell_type": "code",
   "execution_count": 32,
   "metadata": {},
   "outputs": [
    {
     "data": {
      "text/plain": [
       "0.7120613040467936"
      ]
     },
     "execution_count": 32,
     "metadata": {},
     "output_type": "execute_result"
    }
   ],
   "source": [
    "clf.score(x_test,y_test)"
   ]
  },
  {
   "cell_type": "code",
   "execution_count": 35,
   "metadata": {},
   "outputs": [],
   "source": [
    "rand_clf=RandomForestRegressor(random_state=365)"
   ]
  },
  {
   "cell_type": "code",
   "execution_count": 36,
   "metadata": {},
   "outputs": [
    {
     "data": {
      "text/plain": [
       "RandomForestRegressor(random_state=365)"
      ]
     },
     "execution_count": 36,
     "metadata": {},
     "output_type": "execute_result"
    }
   ],
   "source": [
    "rand_clf.fit(x_train,y_train)"
   ]
  },
  {
   "cell_type": "code",
   "execution_count": 40,
   "metadata": {
    "scrolled": true
   },
   "outputs": [
    {
     "data": {
      "text/plain": [
       "[DecisionTreeRegressor(max_features='auto', random_state=1896037970),\n",
       " DecisionTreeRegressor(max_features='auto', random_state=1724779188),\n",
       " DecisionTreeRegressor(max_features='auto', random_state=608178977),\n",
       " DecisionTreeRegressor(max_features='auto', random_state=1574187867),\n",
       " DecisionTreeRegressor(max_features='auto', random_state=792895916),\n",
       " DecisionTreeRegressor(max_features='auto', random_state=46676229),\n",
       " DecisionTreeRegressor(max_features='auto', random_state=380371170),\n",
       " DecisionTreeRegressor(max_features='auto', random_state=1121678066),\n",
       " DecisionTreeRegressor(max_features='auto', random_state=188494153),\n",
       " DecisionTreeRegressor(max_features='auto', random_state=1409479322),\n",
       " DecisionTreeRegressor(max_features='auto', random_state=1580852536),\n",
       " DecisionTreeRegressor(max_features='auto', random_state=764334372),\n",
       " DecisionTreeRegressor(max_features='auto', random_state=1145148976),\n",
       " DecisionTreeRegressor(max_features='auto', random_state=325727772),\n",
       " DecisionTreeRegressor(max_features='auto', random_state=1310018403),\n",
       " DecisionTreeRegressor(max_features='auto', random_state=40830815),\n",
       " DecisionTreeRegressor(max_features='auto', random_state=1898744798),\n",
       " DecisionTreeRegressor(max_features='auto', random_state=1054841347),\n",
       " DecisionTreeRegressor(max_features='auto', random_state=474350503),\n",
       " DecisionTreeRegressor(max_features='auto', random_state=1143524991),\n",
       " DecisionTreeRegressor(max_features='auto', random_state=1882801063),\n",
       " DecisionTreeRegressor(max_features='auto', random_state=1980187262),\n",
       " DecisionTreeRegressor(max_features='auto', random_state=1084976586),\n",
       " DecisionTreeRegressor(max_features='auto', random_state=570517931),\n",
       " DecisionTreeRegressor(max_features='auto', random_state=1252525196),\n",
       " DecisionTreeRegressor(max_features='auto', random_state=703610615),\n",
       " DecisionTreeRegressor(max_features='auto', random_state=1656666573),\n",
       " DecisionTreeRegressor(max_features='auto', random_state=153552746),\n",
       " DecisionTreeRegressor(max_features='auto', random_state=2133272715),\n",
       " DecisionTreeRegressor(max_features='auto', random_state=223070107),\n",
       " DecisionTreeRegressor(max_features='auto', random_state=2089795264),\n",
       " DecisionTreeRegressor(max_features='auto', random_state=673318104),\n",
       " DecisionTreeRegressor(max_features='auto', random_state=1500705372),\n",
       " DecisionTreeRegressor(max_features='auto', random_state=1632846692),\n",
       " DecisionTreeRegressor(max_features='auto', random_state=650312894),\n",
       " DecisionTreeRegressor(max_features='auto', random_state=909065971),\n",
       " DecisionTreeRegressor(max_features='auto', random_state=1683402162),\n",
       " DecisionTreeRegressor(max_features='auto', random_state=1643930175),\n",
       " DecisionTreeRegressor(max_features='auto', random_state=1174856262),\n",
       " DecisionTreeRegressor(max_features='auto', random_state=1657369362),\n",
       " DecisionTreeRegressor(max_features='auto', random_state=1203509615),\n",
       " DecisionTreeRegressor(max_features='auto', random_state=1301765435),\n",
       " DecisionTreeRegressor(max_features='auto', random_state=2100240486),\n",
       " DecisionTreeRegressor(max_features='auto', random_state=1180514799),\n",
       " DecisionTreeRegressor(max_features='auto', random_state=141144828),\n",
       " DecisionTreeRegressor(max_features='auto', random_state=1732008653),\n",
       " DecisionTreeRegressor(max_features='auto', random_state=815421416),\n",
       " DecisionTreeRegressor(max_features='auto', random_state=1908934553),\n",
       " DecisionTreeRegressor(max_features='auto', random_state=1969465270),\n",
       " DecisionTreeRegressor(max_features='auto', random_state=1436986589),\n",
       " DecisionTreeRegressor(max_features='auto', random_state=1643524654),\n",
       " DecisionTreeRegressor(max_features='auto', random_state=1983775377),\n",
       " DecisionTreeRegressor(max_features='auto', random_state=371513279),\n",
       " DecisionTreeRegressor(max_features='auto', random_state=2029662525),\n",
       " DecisionTreeRegressor(max_features='auto', random_state=1046295062),\n",
       " DecisionTreeRegressor(max_features='auto', random_state=1065024732),\n",
       " DecisionTreeRegressor(max_features='auto', random_state=1201414421),\n",
       " DecisionTreeRegressor(max_features='auto', random_state=2044133863),\n",
       " DecisionTreeRegressor(max_features='auto', random_state=926261975),\n",
       " DecisionTreeRegressor(max_features='auto', random_state=754455846),\n",
       " DecisionTreeRegressor(max_features='auto', random_state=8333147),\n",
       " DecisionTreeRegressor(max_features='auto', random_state=262737036),\n",
       " DecisionTreeRegressor(max_features='auto', random_state=848289493),\n",
       " DecisionTreeRegressor(max_features='auto', random_state=2093139929),\n",
       " DecisionTreeRegressor(max_features='auto', random_state=400607875),\n",
       " DecisionTreeRegressor(max_features='auto', random_state=1671343631),\n",
       " DecisionTreeRegressor(max_features='auto', random_state=1107755368),\n",
       " DecisionTreeRegressor(max_features='auto', random_state=1967709626),\n",
       " DecisionTreeRegressor(max_features='auto', random_state=1487541098),\n",
       " DecisionTreeRegressor(max_features='auto', random_state=346582503),\n",
       " DecisionTreeRegressor(max_features='auto', random_state=1214838233),\n",
       " DecisionTreeRegressor(max_features='auto', random_state=130752329),\n",
       " DecisionTreeRegressor(max_features='auto', random_state=42168976),\n",
       " DecisionTreeRegressor(max_features='auto', random_state=143829505),\n",
       " DecisionTreeRegressor(max_features='auto', random_state=741159663),\n",
       " DecisionTreeRegressor(max_features='auto', random_state=497373012),\n",
       " DecisionTreeRegressor(max_features='auto', random_state=1024975056),\n",
       " DecisionTreeRegressor(max_features='auto', random_state=2111545663),\n",
       " DecisionTreeRegressor(max_features='auto', random_state=1228719626),\n",
       " DecisionTreeRegressor(max_features='auto', random_state=1299339897),\n",
       " DecisionTreeRegressor(max_features='auto', random_state=1314932038),\n",
       " DecisionTreeRegressor(max_features='auto', random_state=133966629),\n",
       " DecisionTreeRegressor(max_features='auto', random_state=965148982),\n",
       " DecisionTreeRegressor(max_features='auto', random_state=985839273),\n",
       " DecisionTreeRegressor(max_features='auto', random_state=636744453),\n",
       " DecisionTreeRegressor(max_features='auto', random_state=1663687859),\n",
       " DecisionTreeRegressor(max_features='auto', random_state=517305378),\n",
       " DecisionTreeRegressor(max_features='auto', random_state=610654365),\n",
       " DecisionTreeRegressor(max_features='auto', random_state=1381747885),\n",
       " DecisionTreeRegressor(max_features='auto', random_state=1889745431),\n",
       " DecisionTreeRegressor(max_features='auto', random_state=467705161),\n",
       " DecisionTreeRegressor(max_features='auto', random_state=1165602546),\n",
       " DecisionTreeRegressor(max_features='auto', random_state=277189798),\n",
       " DecisionTreeRegressor(max_features='auto', random_state=1078312182),\n",
       " DecisionTreeRegressor(max_features='auto', random_state=1789967955),\n",
       " DecisionTreeRegressor(max_features='auto', random_state=1022176734),\n",
       " DecisionTreeRegressor(max_features='auto', random_state=403736999),\n",
       " DecisionTreeRegressor(max_features='auto', random_state=1987419159),\n",
       " DecisionTreeRegressor(max_features='auto', random_state=1390446015),\n",
       " DecisionTreeRegressor(max_features='auto', random_state=787765825)]"
      ]
     },
     "execution_count": 40,
     "metadata": {},
     "output_type": "execute_result"
    }
   ],
   "source": [
    "rand_clf.estimators_"
   ]
  },
  {
   "cell_type": "code",
   "execution_count": 41,
   "metadata": {},
   "outputs": [
    {
     "data": {
      "text/plain": [
       "array([0.0335399 , 0.00185688, 0.01078536, 0.00126716, 0.02083828,\n",
       "       0.41272916, 0.01461241, 0.07144171, 0.00486142, 0.01634288,\n",
       "       0.01291486, 0.01091772, 0.38789228])"
      ]
     },
     "execution_count": 41,
     "metadata": {},
     "output_type": "execute_result"
    }
   ],
   "source": [
    "rand_clf.feature_importances_"
   ]
  },
  {
   "cell_type": "code",
   "execution_count": 42,
   "metadata": {},
   "outputs": [
    {
     "data": {
      "text/plain": [
       "0.8831304179605852"
      ]
     },
     "execution_count": 42,
     "metadata": {},
     "output_type": "execute_result"
    }
   ],
   "source": [
    "rand_clf.score(x_test,y_test)"
   ]
  },
  {
   "cell_type": "code",
   "execution_count": 43,
   "metadata": {},
   "outputs": [
    {
     "data": {
      "text/plain": [
       "0.9772169063907366"
      ]
     },
     "execution_count": 43,
     "metadata": {},
     "output_type": "execute_result"
    }
   ],
   "source": [
    "rand_clf.score(x_train,y_train)"
   ]
  },
  {
   "cell_type": "code",
   "execution_count": 45,
   "metadata": {},
   "outputs": [],
   "source": [
    "#The above value is obtained using default values"
   ]
  },
  {
   "cell_type": "markdown",
   "metadata": {},
   "source": [
    "**Now finding the best hyperparameters values using RandomSearchCV**"
   ]
  },
  {
   "cell_type": "code",
   "execution_count": 62,
   "metadata": {},
   "outputs": [],
   "source": [
    "grid_param = {\n",
    "    \"n_estimators\" : [90,100,115,130],\n",
    "    'criterion': ['mse'],\n",
    "    'max_depth' : range(2,20,1),\n",
    "    'min_samples_leaf' : range(1,10,1),\n",
    "    'min_samples_split': range(2,10,1),\n",
    "    'max_features' : ['auto','log2']\n",
    "}"
   ]
  },
  {
   "cell_type": "code",
   "execution_count": 63,
   "metadata": {},
   "outputs": [],
   "source": [
    "rand_search = GridSearchCV(estimator=rand_clf,param_grid=grid_param,cv=5,n_jobs =-1,verbose = 3)"
   ]
  },
  {
   "cell_type": "code",
   "execution_count": 64,
   "metadata": {},
   "outputs": [
    {
     "name": "stdout",
     "output_type": "stream",
     "text": [
      "Fitting 5 folds for each of 10368 candidates, totalling 51840 fits\n"
     ]
    },
    {
     "name": "stderr",
     "output_type": "stream",
     "text": [
      "[Parallel(n_jobs=-1)]: Using backend LokyBackend with 8 concurrent workers.\n",
      "[Parallel(n_jobs=-1)]: Done  16 tasks      | elapsed:    9.5s\n",
      "[Parallel(n_jobs=-1)]: Done 112 tasks      | elapsed:   17.3s\n",
      "[Parallel(n_jobs=-1)]: Done 272 tasks      | elapsed:   28.5s\n",
      "[Parallel(n_jobs=-1)]: Done 496 tasks      | elapsed:   46.1s\n",
      "[Parallel(n_jobs=-1)]: Done 784 tasks      | elapsed:  1.2min\n",
      "[Parallel(n_jobs=-1)]: Done 1136 tasks      | elapsed:  1.6min\n",
      "[Parallel(n_jobs=-1)]: Done 1552 tasks      | elapsed:  2.3min\n",
      "[Parallel(n_jobs=-1)]: Done 2032 tasks      | elapsed:  2.9min\n",
      "[Parallel(n_jobs=-1)]: Done 2576 tasks      | elapsed:  3.6min\n",
      "[Parallel(n_jobs=-1)]: Done 3184 tasks      | elapsed:  4.4min\n",
      "[Parallel(n_jobs=-1)]: Done 3856 tasks      | elapsed:  5.4min\n",
      "[Parallel(n_jobs=-1)]: Done 4592 tasks      | elapsed:  6.2min\n",
      "[Parallel(n_jobs=-1)]: Done 5392 tasks      | elapsed:  7.0min\n",
      "[Parallel(n_jobs=-1)]: Done 6256 tasks      | elapsed:  8.1min\n",
      "[Parallel(n_jobs=-1)]: Done 7184 tasks      | elapsed:  9.5min\n",
      "[Parallel(n_jobs=-1)]: Done 8176 tasks      | elapsed: 10.6min\n",
      "[Parallel(n_jobs=-1)]: Done 9232 tasks      | elapsed: 12.3min\n",
      "[Parallel(n_jobs=-1)]: Done 10352 tasks      | elapsed: 14.0min\n",
      "[Parallel(n_jobs=-1)]: Done 11536 tasks      | elapsed: 15.6min\n",
      "[Parallel(n_jobs=-1)]: Done 12784 tasks      | elapsed: 17.7min\n",
      "[Parallel(n_jobs=-1)]: Done 14096 tasks      | elapsed: 19.6min\n",
      "[Parallel(n_jobs=-1)]: Done 15472 tasks      | elapsed: 21.8min\n",
      "[Parallel(n_jobs=-1)]: Done 16912 tasks      | elapsed: 24.0min\n",
      "[Parallel(n_jobs=-1)]: Done 18416 tasks      | elapsed: 26.6min\n",
      "[Parallel(n_jobs=-1)]: Done 19984 tasks      | elapsed: 28.8min\n",
      "[Parallel(n_jobs=-1)]: Done 21616 tasks      | elapsed: 31.7min\n",
      "[Parallel(n_jobs=-1)]: Done 23312 tasks      | elapsed: 34.1min\n",
      "[Parallel(n_jobs=-1)]: Done 25072 tasks      | elapsed: 36.2min\n",
      "[Parallel(n_jobs=-1)]: Done 26896 tasks      | elapsed: 38.7min\n",
      "[Parallel(n_jobs=-1)]: Done 28784 tasks      | elapsed: 41.8min\n",
      "[Parallel(n_jobs=-1)]: Done 30736 tasks      | elapsed: 46.1min\n",
      "[Parallel(n_jobs=-1)]: Done 32752 tasks      | elapsed: 49.5min\n",
      "[Parallel(n_jobs=-1)]: Done 34832 tasks      | elapsed: 52.9min\n",
      "[Parallel(n_jobs=-1)]: Done 36976 tasks      | elapsed: 56.8min\n",
      "[Parallel(n_jobs=-1)]: Done 39184 tasks      | elapsed: 60.7min\n",
      "[Parallel(n_jobs=-1)]: Done 41456 tasks      | elapsed: 64.7min\n",
      "[Parallel(n_jobs=-1)]: Done 43792 tasks      | elapsed: 68.2min\n",
      "[Parallel(n_jobs=-1)]: Done 46192 tasks      | elapsed: 71.8min\n",
      "[Parallel(n_jobs=-1)]: Done 48656 tasks      | elapsed: 75.6min\n",
      "[Parallel(n_jobs=-1)]: Done 51184 tasks      | elapsed: 79.7min\n",
      "[Parallel(n_jobs=-1)]: Done 51840 out of 51840 | elapsed: 80.7min finished\n"
     ]
    },
    {
     "data": {
      "text/plain": [
       "GridSearchCV(cv=5,\n",
       "             estimator=RandomForestRegressor(max_depth=11, n_estimators=90,\n",
       "                                             random_state=365),\n",
       "             n_jobs=-1,\n",
       "             param_grid={'criterion': ['mse'], 'max_depth': range(2, 20),\n",
       "                         'max_features': ['auto', 'log2'],\n",
       "                         'min_samples_leaf': range(1, 10),\n",
       "                         'min_samples_split': range(2, 10),\n",
       "                         'n_estimators': [90, 100, 115, 130]},\n",
       "             verbose=3)"
      ]
     },
     "execution_count": 64,
     "metadata": {},
     "output_type": "execute_result"
    }
   ],
   "source": [
    "rand_search.fit(x_train,y_train)"
   ]
  },
  {
   "cell_type": "code",
   "execution_count": 65,
   "metadata": {},
   "outputs": [
    {
     "data": {
      "text/plain": [
       "{'criterion': 'mse',\n",
       " 'max_depth': 13,\n",
       " 'max_features': 'auto',\n",
       " 'min_samples_leaf': 1,\n",
       " 'min_samples_split': 2,\n",
       " 'n_estimators': 90}"
      ]
     },
     "execution_count": 65,
     "metadata": {},
     "output_type": "execute_result"
    }
   ],
   "source": [
    "rand_search.best_params_"
   ]
  },
  {
   "cell_type": "code",
   "execution_count": 66,
   "metadata": {},
   "outputs": [],
   "source": [
    "rand_clf=RandomForestRegressor(max_depth=13,\n",
    "criterion='mse',\n",
    "max_features = 'auto',\n",
    " min_samples_leaf = 1,\n",
    " min_samples_split= 2,\n",
    " n_estimators = 90,random_state=365)"
   ]
  },
  {
   "cell_type": "code",
   "execution_count": 67,
   "metadata": {},
   "outputs": [
    {
     "data": {
      "text/plain": [
       "RandomForestRegressor(max_depth=13, n_estimators=90, random_state=365)"
      ]
     },
     "execution_count": 67,
     "metadata": {},
     "output_type": "execute_result"
    }
   ],
   "source": [
    "rand_clf.fit(x_train,y_train)"
   ]
  },
  {
   "cell_type": "code",
   "execution_count": 68,
   "metadata": {},
   "outputs": [
    {
     "data": {
      "text/plain": [
       "0.8839001823438692"
      ]
     },
     "execution_count": 68,
     "metadata": {},
     "output_type": "execute_result"
    }
   ],
   "source": [
    "rand_clf.score(x_test,y_test)"
   ]
  }
 ],
 "metadata": {
  "kernelspec": {
   "display_name": "Python 3",
   "language": "python",
   "name": "python3"
  },
  "language_info": {
   "codemirror_mode": {
    "name": "ipython",
    "version": 3
   },
   "file_extension": ".py",
   "mimetype": "text/x-python",
   "name": "python",
   "nbconvert_exporter": "python",
   "pygments_lexer": "ipython3",
   "version": "3.8.6"
  }
 },
 "nbformat": 4,
 "nbformat_minor": 4
}
