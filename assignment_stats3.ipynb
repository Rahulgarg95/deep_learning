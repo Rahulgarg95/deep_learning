{
 "cells": [
  {
   "cell_type": "code",
   "execution_count": 1,
   "metadata": {},
   "outputs": [],
   "source": [
    "import numpy as np\n",
    "import scipy.stats as sc"
   ]
  },
  {
   "cell_type": "markdown",
   "metadata": {},
   "source": [
    "Problem Statement 1:\n",
    "\n",
    "Blood glucose levels for obese patients have a mean of 100 with a standard deviation of\n",
    "15. A researcher thinks that a diet high in raw cornstarch will have a positive effect on\n",
    "blood glucose levels. A sample of 36 patients who have tried the raw cornstarch diet\n",
    "have a mean glucose level of 108. Test the hypothesis that the raw cornstarch had an\n",
    "effect or not."
   ]
  },
  {
   "cell_type": "code",
   "execution_count": 4,
   "metadata": {},
   "outputs": [
    {
     "name": "stdout",
     "output_type": "stream",
     "text": [
      "Z test value is:  3.2\n",
      "p value:  0.0013742758758317208\n",
      "We reject the NULL hypothesis...\n"
     ]
    }
   ],
   "source": [
    "#Two tailed hupothesis\n",
    "#H0: cornstarch will have no effect on blood glucose levels\n",
    "p_mean=100\n",
    "p_std=15\n",
    "n=36\n",
    "samp_mean=108\n",
    "alpha=0.05\n",
    "\n",
    "std_err=p_std/np.sqrt(n)\n",
    "\n",
    "z_test=(samp_mean-p_mean)/std_err\n",
    "\n",
    "print('Z test value is: ',round(z_test,2))\n",
    "\n",
    "p=2*(1-(sc.norm.cdf(np.absolute(z_test))))\n",
    "print('p value: ',p)\n",
    "\n",
    "if(p<alpha):\n",
    "    print('We reject the NULL hypothesis...')\n",
    "else:\n",
    "    print('We accept the NULL hypothesis...')"
   ]
  },
  {
   "cell_type": "markdown",
   "metadata": {},
   "source": [
    "Problem Statement 2:\n",
    "        \n",
    "In one state, 52% of the voters are Republicans, and 48% are Democrats. In a second\n",
    "state, 47% of the voters are Republicans, and 53% are Democrats. Suppose a simple\n",
    "random sample of 100 voters are surveyed from each state.\n",
    "What is the probability that the survey will show a greater percentage of Republican\n",
    "voters in the second state than in the first state?"
   ]
  },
  {
   "cell_type": "code",
   "execution_count": 15,
   "metadata": {},
   "outputs": [
    {
     "name": "stdout",
     "output_type": "stream",
     "text": [
      "0.07061869440877536 0.002496 0.0024909999999999997\n",
      "Z-test value:  -0.7080278164104213\n",
      "Therefore, the probability that the survey will show a greater percentage of Republican voters in the second state than in the first state is 0.24\n"
     ]
    }
   ],
   "source": [
    "n=100\n",
    "\n",
    "R1=0.52\n",
    "D1=0.48\n",
    "\n",
    "R2=0.47\n",
    "D2=0.53\n",
    "\n",
    "mean_diff=R1-R2\n",
    "std_diff=np.sqrt(((R1*(1-R1))/n) + ((R2*(1-R2))/n))\n",
    "print(std_diff,(R1*(1-R1))/n,(R2*(1-R2))/n)\n",
    "z_test=(-mean_diff)/std_diff\n",
    "\n",
    "print('Z-test value: ',z_test)\n",
    "\n",
    "print('Therefore, the probability that the survey will show a greater percentage of Republican voters in the second state than in the first state is 0.24')"
   ]
  },
  {
   "cell_type": "markdown",
   "metadata": {},
   "source": [
    "Problem Statement 3:\n",
    "    \n",
    "You take the SAT and score 1100. The mean score for the SAT is 1026 and the standard\n",
    "deviation is 209. How well did you score on the test compared to the average test taker?"
   ]
  },
  {
   "cell_type": "code",
   "execution_count": 16,
   "metadata": {},
   "outputs": [
    {
     "name": "stdout",
     "output_type": "stream",
     "text": [
      "Z-score is:  0.35406698564593303\n"
     ]
    }
   ],
   "source": [
    "samp_x=1100\n",
    "p_mean=1026\n",
    "std_dev=209\n",
    "\n",
    "Z_score=(samp_x-p_mean)/std_dev\n",
    "\n",
    "print('Z-score is: ',Z_score)"
   ]
  },
  {
   "cell_type": "code",
   "execution_count": 29,
   "metadata": {},
   "outputs": [
    {
     "name": "stdout",
     "output_type": "stream",
     "text": [
      "p value:  0.7233388832357917\n"
     ]
    }
   ],
   "source": [
    "p=2*(1-sc.norm.cdf(np.absolute(round(Z_score,3))))\n",
    "print('p value: ',p)"
   ]
  }
 ],
 "metadata": {
  "kernelspec": {
   "display_name": "Python 3",
   "language": "python",
   "name": "python3"
  },
  "language_info": {
   "codemirror_mode": {
    "name": "ipython",
    "version": 3
   },
   "file_extension": ".py",
   "mimetype": "text/x-python",
   "name": "python",
   "nbconvert_exporter": "python",
   "pygments_lexer": "ipython3",
   "version": "3.8.6"
  }
 },
 "nbformat": 4,
 "nbformat_minor": 4
}
